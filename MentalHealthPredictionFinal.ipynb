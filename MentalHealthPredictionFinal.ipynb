{
  "nbformat": 4,
  "nbformat_minor": 0,
  "metadata": {
    "colab": {
      "provenance": [],
      "include_colab_link": true
    },
    "kernelspec": {
      "name": "python3",
      "display_name": "Python 3"
    },
    "language_info": {
      "name": "python"
    }
  },
  "cells": [
    {
      "cell_type": "markdown",
      "metadata": {
        "id": "view-in-github",
        "colab_type": "text"
      },
      "source": [
        "<a href=\"https://colab.research.google.com/github/bhoomika-ethakota/basic-express/blob/main/MentalHealthPredictionFinal.ipynb\" target=\"_parent\"><img src=\"https://colab.research.google.com/assets/colab-badge.svg\" alt=\"Open In Colab\"/></a>"
      ]
    },
    {
      "cell_type": "markdown",
      "metadata": {
        "id": "HRmt3OdPoXLP"
      },
      "source": [
        "MACHINE LEARNING FOR MENTAL HEALTH PREDICTION\n"
      ]
    },
    {
      "cell_type": "markdown",
      "metadata": {
        "id": "iucJoFdUudcH"
      },
      "source": [
        "***Importing libraries***"
      ]
    },
    {
      "cell_type": "code",
      "metadata": {
        "id": "8bcRthnJ9nTX"
      },
      "source": [
        "#importing the usual libraries\n",
        "%matplotlib inline\n",
        "import pandas as pd\n",
        "import numpy as np\n",
        "import matplotlib.pyplot as plt\n",
        "import seaborn as sb\n",
        "\n",
        "#importing libraries required for classification\n",
        "from sklearn.model_selection import train_test_split\n",
        "from sklearn.linear_model import LogisticRegression\n",
        "from sklearn.neighbors import KNeighborsClassifier\n",
        "from sklearn.tree import DecisionTreeClassifier\n",
        "from sklearn.ensemble import RandomForestClassifier\n",
        "from sklearn import preprocessing\n",
        "\n",
        "#importing libraries required for model evaluation\n",
        "from sklearn import metrics\n",
        "\n",
        "#importing multiple libraries\n",
        "from sklearn.metrics import (accuracy_score,\n",
        "                             precision_score,\n",
        "                             recall_score,\n",
        "                             f1_score,\n",
        "                             roc_curve,\n",
        "                             roc_auc_score,\n",
        "                             confusion_matrix)"
      ],
      "execution_count": null,
      "outputs": []
    },
    {
      "cell_type": "code",
      "metadata": {
        "id": "3bJc3rbz9tTa"
      },
      "source": [
        "#clearing the warnings in Python\n",
        "from warnings import filterwarnings\n",
        "filterwarnings('ignore')"
      ],
      "execution_count": null,
      "outputs": []
    },
    {
      "cell_type": "markdown",
      "metadata": {
        "id": "h2w0Wdbsu_Fq"
      },
      "source": [
        "***Importing the Google Drive***"
      ]
    },
    {
      "cell_type": "code",
      "metadata": {
        "colab": {
          "base_uri": "https://localhost:8080/"
        },
        "id": "v9RxfhoD9t3z",
        "outputId": "ee0078d5-265f-460d-ea16-992bc689b51d"
      },
      "source": [
        "#importing Google Drive\n",
        "from google.colab import drive\n",
        "drive.mount('drive')"
      ],
      "execution_count": null,
      "outputs": [
        {
          "output_type": "stream",
          "name": "stdout",
          "text": [
            "Mounted at drive\n"
          ]
        }
      ]
    },
    {
      "cell_type": "markdown",
      "metadata": {
        "id": "_Uoi_z50vFuX"
      },
      "source": [
        "***Reading the dataset***"
      ]
    },
    {
      "cell_type": "code",
      "metadata": {
        "colab": {
          "base_uri": "https://localhost:8080/",
          "height": 601
        },
        "id": "Q9hw_xYL9yHY",
        "outputId": "14a4bd82-b9c3-4961-8af7-553d2e639a94"
      },
      "source": [
        "#importing pandas library as pd\n",
        "#reading the data using the pandas library\n",
        "import pandas as pd\n",
        "path=\"/content/survey.csv\"\n",
        "hs_data=pd.read_csv(path)\n",
        "hs_data.head(10)"
      ],
      "execution_count": null,
      "outputs": [
        {
          "output_type": "execute_result",
          "data": {
            "text/html": [
              "\n",
              "  <div id=\"df-ed6a1d15-7bf2-4fe6-bf24-ff3a45c3acca\">\n",
              "    <div class=\"colab-df-container\">\n",
              "      <div>\n",
              "<style scoped>\n",
              "    .dataframe tbody tr th:only-of-type {\n",
              "        vertical-align: middle;\n",
              "    }\n",
              "\n",
              "    .dataframe tbody tr th {\n",
              "        vertical-align: top;\n",
              "    }\n",
              "\n",
              "    .dataframe thead th {\n",
              "        text-align: right;\n",
              "    }\n",
              "</style>\n",
              "<table border=\"1\" class=\"dataframe\">\n",
              "  <thead>\n",
              "    <tr style=\"text-align: right;\">\n",
              "      <th></th>\n",
              "      <th>Timestamp</th>\n",
              "      <th>Age</th>\n",
              "      <th>Gender</th>\n",
              "      <th>Country</th>\n",
              "      <th>state</th>\n",
              "      <th>self_employed</th>\n",
              "      <th>family_history</th>\n",
              "      <th>treatment</th>\n",
              "      <th>work_interfere</th>\n",
              "      <th>no_employees</th>\n",
              "      <th>remote_work</th>\n",
              "      <th>tech_company</th>\n",
              "      <th>benefits</th>\n",
              "      <th>care_options</th>\n",
              "      <th>wellness_program</th>\n",
              "      <th>seek_help</th>\n",
              "      <th>anonymity</th>\n",
              "      <th>leave</th>\n",
              "      <th>mental_health_consequence</th>\n",
              "      <th>phys_health_consequence</th>\n",
              "      <th>coworkers</th>\n",
              "      <th>supervisor</th>\n",
              "      <th>mental_health_interview</th>\n",
              "      <th>phys_health_interview</th>\n",
              "      <th>mental_vs_physical</th>\n",
              "      <th>obs_consequence</th>\n",
              "      <th>comments</th>\n",
              "    </tr>\n",
              "  </thead>\n",
              "  <tbody>\n",
              "    <tr>\n",
              "      <th>0</th>\n",
              "      <td>2014-08-27 11:29:31</td>\n",
              "      <td>37</td>\n",
              "      <td>Female</td>\n",
              "      <td>United States</td>\n",
              "      <td>IL</td>\n",
              "      <td>NaN</td>\n",
              "      <td>No</td>\n",
              "      <td>Yes</td>\n",
              "      <td>Often</td>\n",
              "      <td>6-25</td>\n",
              "      <td>No</td>\n",
              "      <td>Yes</td>\n",
              "      <td>Yes</td>\n",
              "      <td>Not sure</td>\n",
              "      <td>No</td>\n",
              "      <td>Yes</td>\n",
              "      <td>Yes</td>\n",
              "      <td>Somewhat easy</td>\n",
              "      <td>No</td>\n",
              "      <td>No</td>\n",
              "      <td>Some of them</td>\n",
              "      <td>Yes</td>\n",
              "      <td>No</td>\n",
              "      <td>Maybe</td>\n",
              "      <td>Yes</td>\n",
              "      <td>No</td>\n",
              "      <td>NaN</td>\n",
              "    </tr>\n",
              "    <tr>\n",
              "      <th>1</th>\n",
              "      <td>2014-08-27 11:29:37</td>\n",
              "      <td>44</td>\n",
              "      <td>M</td>\n",
              "      <td>United States</td>\n",
              "      <td>IN</td>\n",
              "      <td>NaN</td>\n",
              "      <td>No</td>\n",
              "      <td>No</td>\n",
              "      <td>Rarely</td>\n",
              "      <td>More than 1000</td>\n",
              "      <td>No</td>\n",
              "      <td>No</td>\n",
              "      <td>Don't know</td>\n",
              "      <td>No</td>\n",
              "      <td>Don't know</td>\n",
              "      <td>Don't know</td>\n",
              "      <td>Don't know</td>\n",
              "      <td>Don't know</td>\n",
              "      <td>Maybe</td>\n",
              "      <td>No</td>\n",
              "      <td>No</td>\n",
              "      <td>No</td>\n",
              "      <td>No</td>\n",
              "      <td>No</td>\n",
              "      <td>Don't know</td>\n",
              "      <td>No</td>\n",
              "      <td>NaN</td>\n",
              "    </tr>\n",
              "    <tr>\n",
              "      <th>2</th>\n",
              "      <td>2014-08-27 11:29:44</td>\n",
              "      <td>32</td>\n",
              "      <td>Male</td>\n",
              "      <td>Canada</td>\n",
              "      <td>NaN</td>\n",
              "      <td>NaN</td>\n",
              "      <td>No</td>\n",
              "      <td>No</td>\n",
              "      <td>Rarely</td>\n",
              "      <td>6-25</td>\n",
              "      <td>No</td>\n",
              "      <td>Yes</td>\n",
              "      <td>No</td>\n",
              "      <td>No</td>\n",
              "      <td>No</td>\n",
              "      <td>No</td>\n",
              "      <td>Don't know</td>\n",
              "      <td>Somewhat difficult</td>\n",
              "      <td>No</td>\n",
              "      <td>No</td>\n",
              "      <td>Yes</td>\n",
              "      <td>Yes</td>\n",
              "      <td>Yes</td>\n",
              "      <td>Yes</td>\n",
              "      <td>No</td>\n",
              "      <td>No</td>\n",
              "      <td>NaN</td>\n",
              "    </tr>\n",
              "    <tr>\n",
              "      <th>3</th>\n",
              "      <td>2014-08-27 11:29:46</td>\n",
              "      <td>31</td>\n",
              "      <td>Male</td>\n",
              "      <td>United Kingdom</td>\n",
              "      <td>NaN</td>\n",
              "      <td>NaN</td>\n",
              "      <td>Yes</td>\n",
              "      <td>Yes</td>\n",
              "      <td>Often</td>\n",
              "      <td>26-100</td>\n",
              "      <td>No</td>\n",
              "      <td>Yes</td>\n",
              "      <td>No</td>\n",
              "      <td>Yes</td>\n",
              "      <td>No</td>\n",
              "      <td>No</td>\n",
              "      <td>No</td>\n",
              "      <td>Somewhat difficult</td>\n",
              "      <td>Yes</td>\n",
              "      <td>Yes</td>\n",
              "      <td>Some of them</td>\n",
              "      <td>No</td>\n",
              "      <td>Maybe</td>\n",
              "      <td>Maybe</td>\n",
              "      <td>No</td>\n",
              "      <td>Yes</td>\n",
              "      <td>NaN</td>\n",
              "    </tr>\n",
              "    <tr>\n",
              "      <th>4</th>\n",
              "      <td>2014-08-27 11:30:22</td>\n",
              "      <td>31</td>\n",
              "      <td>Male</td>\n",
              "      <td>United States</td>\n",
              "      <td>TX</td>\n",
              "      <td>NaN</td>\n",
              "      <td>No</td>\n",
              "      <td>No</td>\n",
              "      <td>Never</td>\n",
              "      <td>100-500</td>\n",
              "      <td>Yes</td>\n",
              "      <td>Yes</td>\n",
              "      <td>Yes</td>\n",
              "      <td>No</td>\n",
              "      <td>Don't know</td>\n",
              "      <td>Don't know</td>\n",
              "      <td>Don't know</td>\n",
              "      <td>Don't know</td>\n",
              "      <td>No</td>\n",
              "      <td>No</td>\n",
              "      <td>Some of them</td>\n",
              "      <td>Yes</td>\n",
              "      <td>Yes</td>\n",
              "      <td>Yes</td>\n",
              "      <td>Don't know</td>\n",
              "      <td>No</td>\n",
              "      <td>NaN</td>\n",
              "    </tr>\n",
              "    <tr>\n",
              "      <th>5</th>\n",
              "      <td>2014-08-27 11:31:22</td>\n",
              "      <td>33</td>\n",
              "      <td>Male</td>\n",
              "      <td>United States</td>\n",
              "      <td>TN</td>\n",
              "      <td>NaN</td>\n",
              "      <td>Yes</td>\n",
              "      <td>No</td>\n",
              "      <td>Sometimes</td>\n",
              "      <td>6-25</td>\n",
              "      <td>No</td>\n",
              "      <td>Yes</td>\n",
              "      <td>Yes</td>\n",
              "      <td>Not sure</td>\n",
              "      <td>No</td>\n",
              "      <td>Don't know</td>\n",
              "      <td>Don't know</td>\n",
              "      <td>Don't know</td>\n",
              "      <td>No</td>\n",
              "      <td>No</td>\n",
              "      <td>Yes</td>\n",
              "      <td>Yes</td>\n",
              "      <td>No</td>\n",
              "      <td>Maybe</td>\n",
              "      <td>Don't know</td>\n",
              "      <td>No</td>\n",
              "      <td>NaN</td>\n",
              "    </tr>\n",
              "    <tr>\n",
              "      <th>6</th>\n",
              "      <td>2014-08-27 11:31:50</td>\n",
              "      <td>35</td>\n",
              "      <td>Female</td>\n",
              "      <td>United States</td>\n",
              "      <td>MI</td>\n",
              "      <td>NaN</td>\n",
              "      <td>Yes</td>\n",
              "      <td>Yes</td>\n",
              "      <td>Sometimes</td>\n",
              "      <td>1-5</td>\n",
              "      <td>Yes</td>\n",
              "      <td>Yes</td>\n",
              "      <td>No</td>\n",
              "      <td>No</td>\n",
              "      <td>No</td>\n",
              "      <td>No</td>\n",
              "      <td>No</td>\n",
              "      <td>Somewhat difficult</td>\n",
              "      <td>Maybe</td>\n",
              "      <td>Maybe</td>\n",
              "      <td>Some of them</td>\n",
              "      <td>No</td>\n",
              "      <td>No</td>\n",
              "      <td>No</td>\n",
              "      <td>Don't know</td>\n",
              "      <td>No</td>\n",
              "      <td>NaN</td>\n",
              "    </tr>\n",
              "    <tr>\n",
              "      <th>7</th>\n",
              "      <td>2014-08-27 11:32:05</td>\n",
              "      <td>39</td>\n",
              "      <td>M</td>\n",
              "      <td>Canada</td>\n",
              "      <td>NaN</td>\n",
              "      <td>NaN</td>\n",
              "      <td>No</td>\n",
              "      <td>No</td>\n",
              "      <td>Never</td>\n",
              "      <td>1-5</td>\n",
              "      <td>Yes</td>\n",
              "      <td>Yes</td>\n",
              "      <td>No</td>\n",
              "      <td>Yes</td>\n",
              "      <td>No</td>\n",
              "      <td>No</td>\n",
              "      <td>Yes</td>\n",
              "      <td>Don't know</td>\n",
              "      <td>No</td>\n",
              "      <td>No</td>\n",
              "      <td>No</td>\n",
              "      <td>No</td>\n",
              "      <td>No</td>\n",
              "      <td>No</td>\n",
              "      <td>No</td>\n",
              "      <td>No</td>\n",
              "      <td>NaN</td>\n",
              "    </tr>\n",
              "    <tr>\n",
              "      <th>8</th>\n",
              "      <td>2014-08-27 11:32:39</td>\n",
              "      <td>42</td>\n",
              "      <td>Female</td>\n",
              "      <td>United States</td>\n",
              "      <td>IL</td>\n",
              "      <td>NaN</td>\n",
              "      <td>Yes</td>\n",
              "      <td>Yes</td>\n",
              "      <td>Sometimes</td>\n",
              "      <td>100-500</td>\n",
              "      <td>No</td>\n",
              "      <td>Yes</td>\n",
              "      <td>Yes</td>\n",
              "      <td>Yes</td>\n",
              "      <td>No</td>\n",
              "      <td>No</td>\n",
              "      <td>No</td>\n",
              "      <td>Very difficult</td>\n",
              "      <td>Maybe</td>\n",
              "      <td>No</td>\n",
              "      <td>Yes</td>\n",
              "      <td>Yes</td>\n",
              "      <td>No</td>\n",
              "      <td>Maybe</td>\n",
              "      <td>No</td>\n",
              "      <td>No</td>\n",
              "      <td>NaN</td>\n",
              "    </tr>\n",
              "    <tr>\n",
              "      <th>9</th>\n",
              "      <td>2014-08-27 11:32:43</td>\n",
              "      <td>23</td>\n",
              "      <td>Male</td>\n",
              "      <td>Canada</td>\n",
              "      <td>NaN</td>\n",
              "      <td>NaN</td>\n",
              "      <td>No</td>\n",
              "      <td>No</td>\n",
              "      <td>Never</td>\n",
              "      <td>26-100</td>\n",
              "      <td>No</td>\n",
              "      <td>Yes</td>\n",
              "      <td>Don't know</td>\n",
              "      <td>No</td>\n",
              "      <td>Don't know</td>\n",
              "      <td>Don't know</td>\n",
              "      <td>Don't know</td>\n",
              "      <td>Don't know</td>\n",
              "      <td>No</td>\n",
              "      <td>No</td>\n",
              "      <td>Yes</td>\n",
              "      <td>Yes</td>\n",
              "      <td>Maybe</td>\n",
              "      <td>Maybe</td>\n",
              "      <td>Yes</td>\n",
              "      <td>No</td>\n",
              "      <td>NaN</td>\n",
              "    </tr>\n",
              "  </tbody>\n",
              "</table>\n",
              "</div>\n",
              "      <button class=\"colab-df-convert\" onclick=\"convertToInteractive('df-ed6a1d15-7bf2-4fe6-bf24-ff3a45c3acca')\"\n",
              "              title=\"Convert this dataframe to an interactive table.\"\n",
              "              style=\"display:none;\">\n",
              "        \n",
              "  <svg xmlns=\"http://www.w3.org/2000/svg\" height=\"24px\"viewBox=\"0 0 24 24\"\n",
              "       width=\"24px\">\n",
              "    <path d=\"M0 0h24v24H0V0z\" fill=\"none\"/>\n",
              "    <path d=\"M18.56 5.44l.94 2.06.94-2.06 2.06-.94-2.06-.94-.94-2.06-.94 2.06-2.06.94zm-11 1L8.5 8.5l.94-2.06 2.06-.94-2.06-.94L8.5 2.5l-.94 2.06-2.06.94zm10 10l.94 2.06.94-2.06 2.06-.94-2.06-.94-.94-2.06-.94 2.06-2.06.94z\"/><path d=\"M17.41 7.96l-1.37-1.37c-.4-.4-.92-.59-1.43-.59-.52 0-1.04.2-1.43.59L10.3 9.45l-7.72 7.72c-.78.78-.78 2.05 0 2.83L4 21.41c.39.39.9.59 1.41.59.51 0 1.02-.2 1.41-.59l7.78-7.78 2.81-2.81c.8-.78.8-2.07 0-2.86zM5.41 20L4 18.59l7.72-7.72 1.47 1.35L5.41 20z\"/>\n",
              "  </svg>\n",
              "      </button>\n",
              "      \n",
              "  <style>\n",
              "    .colab-df-container {\n",
              "      display:flex;\n",
              "      flex-wrap:wrap;\n",
              "      gap: 12px;\n",
              "    }\n",
              "\n",
              "    .colab-df-convert {\n",
              "      background-color: #E8F0FE;\n",
              "      border: none;\n",
              "      border-radius: 50%;\n",
              "      cursor: pointer;\n",
              "      display: none;\n",
              "      fill: #1967D2;\n",
              "      height: 32px;\n",
              "      padding: 0 0 0 0;\n",
              "      width: 32px;\n",
              "    }\n",
              "\n",
              "    .colab-df-convert:hover {\n",
              "      background-color: #E2EBFA;\n",
              "      box-shadow: 0px 1px 2px rgba(60, 64, 67, 0.3), 0px 1px 3px 1px rgba(60, 64, 67, 0.15);\n",
              "      fill: #174EA6;\n",
              "    }\n",
              "\n",
              "    [theme=dark] .colab-df-convert {\n",
              "      background-color: #3B4455;\n",
              "      fill: #D2E3FC;\n",
              "    }\n",
              "\n",
              "    [theme=dark] .colab-df-convert:hover {\n",
              "      background-color: #434B5C;\n",
              "      box-shadow: 0px 1px 3px 1px rgba(0, 0, 0, 0.15);\n",
              "      filter: drop-shadow(0px 1px 2px rgba(0, 0, 0, 0.3));\n",
              "      fill: #FFFFFF;\n",
              "    }\n",
              "  </style>\n",
              "\n",
              "      <script>\n",
              "        const buttonEl =\n",
              "          document.querySelector('#df-ed6a1d15-7bf2-4fe6-bf24-ff3a45c3acca button.colab-df-convert');\n",
              "        buttonEl.style.display =\n",
              "          google.colab.kernel.accessAllowed ? 'block' : 'none';\n",
              "\n",
              "        async function convertToInteractive(key) {\n",
              "          const element = document.querySelector('#df-ed6a1d15-7bf2-4fe6-bf24-ff3a45c3acca');\n",
              "          const dataTable =\n",
              "            await google.colab.kernel.invokeFunction('convertToInteractive',\n",
              "                                                     [key], {});\n",
              "          if (!dataTable) return;\n",
              "\n",
              "          const docLinkHtml = 'Like what you see? Visit the ' +\n",
              "            '<a target=\"_blank\" href=https://colab.research.google.com/notebooks/data_table.ipynb>data table notebook</a>'\n",
              "            + ' to learn more about interactive tables.';\n",
              "          element.innerHTML = '';\n",
              "          dataTable['output_type'] = 'display_data';\n",
              "          await google.colab.output.renderOutput(dataTable, element);\n",
              "          const docLink = document.createElement('div');\n",
              "          docLink.innerHTML = docLinkHtml;\n",
              "          element.appendChild(docLink);\n",
              "        }\n",
              "      </script>\n",
              "    </div>\n",
              "  </div>\n",
              "  "
            ],
            "text/plain": [
              "             Timestamp  Age  Gender  ... mental_vs_physical obs_consequence comments\n",
              "0  2014-08-27 11:29:31   37  Female  ...                Yes              No      NaN\n",
              "1  2014-08-27 11:29:37   44       M  ...         Don't know              No      NaN\n",
              "2  2014-08-27 11:29:44   32    Male  ...                 No              No      NaN\n",
              "3  2014-08-27 11:29:46   31    Male  ...                 No             Yes      NaN\n",
              "4  2014-08-27 11:30:22   31    Male  ...         Don't know              No      NaN\n",
              "5  2014-08-27 11:31:22   33    Male  ...         Don't know              No      NaN\n",
              "6  2014-08-27 11:31:50   35  Female  ...         Don't know              No      NaN\n",
              "7  2014-08-27 11:32:05   39       M  ...                 No              No      NaN\n",
              "8  2014-08-27 11:32:39   42  Female  ...                 No              No      NaN\n",
              "9  2014-08-27 11:32:43   23    Male  ...                Yes              No      NaN\n",
              "\n",
              "[10 rows x 27 columns]"
            ]
          },
          "metadata": {},
          "execution_count": 4
        }
      ]
    },
    {
      "cell_type": "markdown",
      "metadata": {
        "id": "o3dAKi2lvYZ2"
      },
      "source": [
        "***Describing the dataset***"
      ]
    },
    {
      "cell_type": "code",
      "metadata": {
        "id": "bVUByLSk93Ko",
        "colab": {
          "base_uri": "https://localhost:8080/",
          "height": 300
        },
        "outputId": "1150acef-b0db-4bda-d875-bfdc2f159108"
      },
      "source": [
        "#describing the method to get an idea about mean, std for each column\n",
        "hs_data.describe()"
      ],
      "execution_count": null,
      "outputs": [
        {
          "output_type": "execute_result",
          "data": {
            "text/html": [
              "\n",
              "  <div id=\"df-41b26199-9f65-4816-ab1f-b979c666fa5d\">\n",
              "    <div class=\"colab-df-container\">\n",
              "      <div>\n",
              "<style scoped>\n",
              "    .dataframe tbody tr th:only-of-type {\n",
              "        vertical-align: middle;\n",
              "    }\n",
              "\n",
              "    .dataframe tbody tr th {\n",
              "        vertical-align: top;\n",
              "    }\n",
              "\n",
              "    .dataframe thead th {\n",
              "        text-align: right;\n",
              "    }\n",
              "</style>\n",
              "<table border=\"1\" class=\"dataframe\">\n",
              "  <thead>\n",
              "    <tr style=\"text-align: right;\">\n",
              "      <th></th>\n",
              "      <th>Age</th>\n",
              "    </tr>\n",
              "  </thead>\n",
              "  <tbody>\n",
              "    <tr>\n",
              "      <th>count</th>\n",
              "      <td>1.259000e+03</td>\n",
              "    </tr>\n",
              "    <tr>\n",
              "      <th>mean</th>\n",
              "      <td>7.942815e+07</td>\n",
              "    </tr>\n",
              "    <tr>\n",
              "      <th>std</th>\n",
              "      <td>2.818299e+09</td>\n",
              "    </tr>\n",
              "    <tr>\n",
              "      <th>min</th>\n",
              "      <td>-1.726000e+03</td>\n",
              "    </tr>\n",
              "    <tr>\n",
              "      <th>25%</th>\n",
              "      <td>2.700000e+01</td>\n",
              "    </tr>\n",
              "    <tr>\n",
              "      <th>50%</th>\n",
              "      <td>3.100000e+01</td>\n",
              "    </tr>\n",
              "    <tr>\n",
              "      <th>75%</th>\n",
              "      <td>3.600000e+01</td>\n",
              "    </tr>\n",
              "    <tr>\n",
              "      <th>max</th>\n",
              "      <td>1.000000e+11</td>\n",
              "    </tr>\n",
              "  </tbody>\n",
              "</table>\n",
              "</div>\n",
              "      <button class=\"colab-df-convert\" onclick=\"convertToInteractive('df-41b26199-9f65-4816-ab1f-b979c666fa5d')\"\n",
              "              title=\"Convert this dataframe to an interactive table.\"\n",
              "              style=\"display:none;\">\n",
              "        \n",
              "  <svg xmlns=\"http://www.w3.org/2000/svg\" height=\"24px\"viewBox=\"0 0 24 24\"\n",
              "       width=\"24px\">\n",
              "    <path d=\"M0 0h24v24H0V0z\" fill=\"none\"/>\n",
              "    <path d=\"M18.56 5.44l.94 2.06.94-2.06 2.06-.94-2.06-.94-.94-2.06-.94 2.06-2.06.94zm-11 1L8.5 8.5l.94-2.06 2.06-.94-2.06-.94L8.5 2.5l-.94 2.06-2.06.94zm10 10l.94 2.06.94-2.06 2.06-.94-2.06-.94-.94-2.06-.94 2.06-2.06.94z\"/><path d=\"M17.41 7.96l-1.37-1.37c-.4-.4-.92-.59-1.43-.59-.52 0-1.04.2-1.43.59L10.3 9.45l-7.72 7.72c-.78.78-.78 2.05 0 2.83L4 21.41c.39.39.9.59 1.41.59.51 0 1.02-.2 1.41-.59l7.78-7.78 2.81-2.81c.8-.78.8-2.07 0-2.86zM5.41 20L4 18.59l7.72-7.72 1.47 1.35L5.41 20z\"/>\n",
              "  </svg>\n",
              "      </button>\n",
              "      \n",
              "  <style>\n",
              "    .colab-df-container {\n",
              "      display:flex;\n",
              "      flex-wrap:wrap;\n",
              "      gap: 12px;\n",
              "    }\n",
              "\n",
              "    .colab-df-convert {\n",
              "      background-color: #E8F0FE;\n",
              "      border: none;\n",
              "      border-radius: 50%;\n",
              "      cursor: pointer;\n",
              "      display: none;\n",
              "      fill: #1967D2;\n",
              "      height: 32px;\n",
              "      padding: 0 0 0 0;\n",
              "      width: 32px;\n",
              "    }\n",
              "\n",
              "    .colab-df-convert:hover {\n",
              "      background-color: #E2EBFA;\n",
              "      box-shadow: 0px 1px 2px rgba(60, 64, 67, 0.3), 0px 1px 3px 1px rgba(60, 64, 67, 0.15);\n",
              "      fill: #174EA6;\n",
              "    }\n",
              "\n",
              "    [theme=dark] .colab-df-convert {\n",
              "      background-color: #3B4455;\n",
              "      fill: #D2E3FC;\n",
              "    }\n",
              "\n",
              "    [theme=dark] .colab-df-convert:hover {\n",
              "      background-color: #434B5C;\n",
              "      box-shadow: 0px 1px 3px 1px rgba(0, 0, 0, 0.15);\n",
              "      filter: drop-shadow(0px 1px 2px rgba(0, 0, 0, 0.3));\n",
              "      fill: #FFFFFF;\n",
              "    }\n",
              "  </style>\n",
              "\n",
              "      <script>\n",
              "        const buttonEl =\n",
              "          document.querySelector('#df-41b26199-9f65-4816-ab1f-b979c666fa5d button.colab-df-convert');\n",
              "        buttonEl.style.display =\n",
              "          google.colab.kernel.accessAllowed ? 'block' : 'none';\n",
              "\n",
              "        async function convertToInteractive(key) {\n",
              "          const element = document.querySelector('#df-41b26199-9f65-4816-ab1f-b979c666fa5d');\n",
              "          const dataTable =\n",
              "            await google.colab.kernel.invokeFunction('convertToInteractive',\n",
              "                                                     [key], {});\n",
              "          if (!dataTable) return;\n",
              "\n",
              "          const docLinkHtml = 'Like what you see? Visit the ' +\n",
              "            '<a target=\"_blank\" href=https://colab.research.google.com/notebooks/data_table.ipynb>data table notebook</a>'\n",
              "            + ' to learn more about interactive tables.';\n",
              "          element.innerHTML = '';\n",
              "          dataTable['output_type'] = 'display_data';\n",
              "          await google.colab.output.renderOutput(dataTable, element);\n",
              "          const docLink = document.createElement('div');\n",
              "          docLink.innerHTML = docLinkHtml;\n",
              "          element.appendChild(docLink);\n",
              "        }\n",
              "      </script>\n",
              "    </div>\n",
              "  </div>\n",
              "  "
            ],
            "text/plain": [
              "                Age\n",
              "count  1.259000e+03\n",
              "mean   7.942815e+07\n",
              "std    2.818299e+09\n",
              "min   -1.726000e+03\n",
              "25%    2.700000e+01\n",
              "50%    3.100000e+01\n",
              "75%    3.600000e+01\n",
              "max    1.000000e+11"
            ]
          },
          "metadata": {},
          "execution_count": 5
        }
      ]
    },
    {
      "cell_type": "markdown",
      "metadata": {
        "id": "qIMFF17UvhZs"
      },
      "source": [
        "***Concise summary of the dataset***"
      ]
    },
    {
      "cell_type": "code",
      "metadata": {
        "id": "kFVyw3XI957W",
        "colab": {
          "base_uri": "https://localhost:8080/"
        },
        "outputId": "f7b5d5de-be1e-4267-d66d-64a3f7b47fe5"
      },
      "source": [
        "#using the info() function to get a concise summary of the data\n",
        "hs_data.info()"
      ],
      "execution_count": null,
      "outputs": [
        {
          "output_type": "stream",
          "name": "stdout",
          "text": [
            "<class 'pandas.core.frame.DataFrame'>\n",
            "RangeIndex: 1259 entries, 0 to 1258\n",
            "Data columns (total 27 columns):\n",
            " #   Column                     Non-Null Count  Dtype \n",
            "---  ------                     --------------  ----- \n",
            " 0   Timestamp                  1259 non-null   object\n",
            " 1   Age                        1259 non-null   int64 \n",
            " 2   Gender                     1259 non-null   object\n",
            " 3   Country                    1259 non-null   object\n",
            " 4   state                      744 non-null    object\n",
            " 5   self_employed              1241 non-null   object\n",
            " 6   family_history             1259 non-null   object\n",
            " 7   treatment                  1259 non-null   object\n",
            " 8   work_interfere             995 non-null    object\n",
            " 9   no_employees               1259 non-null   object\n",
            " 10  remote_work                1259 non-null   object\n",
            " 11  tech_company               1259 non-null   object\n",
            " 12  benefits                   1259 non-null   object\n",
            " 13  care_options               1259 non-null   object\n",
            " 14  wellness_program           1259 non-null   object\n",
            " 15  seek_help                  1259 non-null   object\n",
            " 16  anonymity                  1259 non-null   object\n",
            " 17  leave                      1259 non-null   object\n",
            " 18  mental_health_consequence  1259 non-null   object\n",
            " 19  phys_health_consequence    1259 non-null   object\n",
            " 20  coworkers                  1259 non-null   object\n",
            " 21  supervisor                 1259 non-null   object\n",
            " 22  mental_health_interview    1259 non-null   object\n",
            " 23  phys_health_interview      1259 non-null   object\n",
            " 24  mental_vs_physical         1259 non-null   object\n",
            " 25  obs_consequence            1259 non-null   object\n",
            " 26  comments                   164 non-null    object\n",
            "dtypes: int64(1), object(26)\n",
            "memory usage: 265.7+ KB\n"
          ]
        }
      ]
    },
    {
      "cell_type": "markdown",
      "metadata": {
        "id": "EZYdsulFvukA"
      },
      "source": [
        "***Number of distinct observations***"
      ]
    },
    {
      "cell_type": "code",
      "metadata": {
        "id": "5jMQM7bQ96ZJ",
        "colab": {
          "base_uri": "https://localhost:8080/"
        },
        "outputId": "005ef863-70c4-4da4-9d34-024b0d4b434d"
      },
      "source": [
        "#using the nunique() function to get the number of unique elements in the object\n",
        "hs_data.nunique()"
      ],
      "execution_count": null,
      "outputs": [
        {
          "output_type": "execute_result",
          "data": {
            "text/plain": [
              "Timestamp                    1246\n",
              "Age                            53\n",
              "Gender                         49\n",
              "Country                        48\n",
              "state                          45\n",
              "self_employed                   2\n",
              "family_history                  2\n",
              "treatment                       2\n",
              "work_interfere                  4\n",
              "no_employees                    6\n",
              "remote_work                     2\n",
              "tech_company                    2\n",
              "benefits                        3\n",
              "care_options                    3\n",
              "wellness_program                3\n",
              "seek_help                       3\n",
              "anonymity                       3\n",
              "leave                           5\n",
              "mental_health_consequence       3\n",
              "phys_health_consequence         3\n",
              "coworkers                       3\n",
              "supervisor                      3\n",
              "mental_health_interview         3\n",
              "phys_health_interview           3\n",
              "mental_vs_physical              3\n",
              "obs_consequence                 2\n",
              "comments                      160\n",
              "dtype: int64"
            ]
          },
          "metadata": {},
          "execution_count": 7
        }
      ]
    },
    {
      "cell_type": "markdown",
      "metadata": {
        "id": "2oFF9BLSwRfr"
      },
      "source": [
        "***Cleaning the data***"
      ]
    },
    {
      "cell_type": "code",
      "metadata": {
        "id": "Bb5Qqocs-NM0",
        "colab": {
          "base_uri": "https://localhost:8080/"
        },
        "outputId": "0a8a1a98-e01c-4ff5-d045-90d7c77751e6"
      },
      "source": [
        "#clean 'Gender'\n",
        "gender = hs_data['Gender'].str.lower()\n",
        "print(gender)\n",
        "\n",
        "#selecting unique elements\n",
        "gender = hs_data['Gender'].unique()\n",
        "\n",
        "#making gender groups\n",
        "male_str = [\"male\", \"m\", \"male-ish\", \"maile\", \"mal\", \"male (cis)\", \"make\", \"male \", \"man\",\"msle\", \"mail\", \"malr\",\"cis man\", \"Cis Male\", \"cis male\"]\n",
        "trans_str = [\"trans-female\", \"something kinda male?\", \"queer/she/they\", \"non-binary\",\"nah\", \"all\", \"enby\", \"fluid\", \"genderqueer\", \"androgyne\", \"agender\", \"male leaning androgynous\", \"guy (-ish) ^_^\", \"trans woman\", \"neuter\", \"female (trans)\", \"queer\", \"ostensibly male, unsure what that really means\"]\n",
        "female_str = [\"cis female\", \"f\", \"female\", \"woman\",  \"femake\", \"female \",\"cis-female/femme\", \"female (cis)\", \"femail\"]\n",
        "\n",
        "for (row, col) in hs_data.iterrows():\n",
        "\n",
        "    if str.lower(col.Gender) in male_str:\n",
        "        hs_data['Gender'].replace(to_replace=col.Gender, value='male', inplace=True)\n",
        "\n",
        "    if str.lower(col.Gender) in female_str:\n",
        "        hs_data['Gender'].replace(to_replace=col.Gender, value='female', inplace=True)\n",
        "\n",
        "    if str.lower(col.Gender) in trans_str:\n",
        "        hs_data['Gender'].replace(to_replace=col.Gender, value='trans', inplace=True)\n",
        "\n",
        "#removing unnecessary elements\n",
        "stk_list = ['A little about you', 'p']\n",
        "hs_data = hs_data[~hs_data['Gender'].isin(stk_list)]\n",
        "\n",
        "print(hs_data['Gender'].unique())"
      ],
      "execution_count": null,
      "outputs": [
        {
          "output_type": "stream",
          "name": "stdout",
          "text": [
            "0       female\n",
            "1            m\n",
            "2         male\n",
            "3         male\n",
            "4         male\n",
            "         ...  \n",
            "1254      male\n",
            "1255      male\n",
            "1256      male\n",
            "1257         f\n",
            "1258      male\n",
            "Name: Gender, Length: 1259, dtype: object\n",
            "['female' 'male' 'trans']\n"
          ]
        }
      ]
    },
    {
      "cell_type": "markdown",
      "metadata": {
        "id": "TlPCwPKNwe1T"
      },
      "source": [
        "***Encoding data***"
      ]
    },
    {
      "cell_type": "code",
      "metadata": {
        "id": "2ItQEoIz_e5Q",
        "colab": {
          "base_uri": "https://localhost:8080/"
        },
        "outputId": "dd6ee750-4455-4275-a623-835a2e356665"
      },
      "source": [
        "#encoding data\n",
        "labelDict = {}\n",
        "for feature in hs_data:\n",
        "    le = preprocessing.LabelEncoder()\n",
        "    le.fit(hs_data[feature])\n",
        "    le_name_mapping = dict(zip(le.classes_, le.transform(le.classes_)))\n",
        "    hs_data[feature] = le.transform(hs_data[feature])\n",
        "    # Get labels\n",
        "    labelKey = 'label_' + feature\n",
        "    labelValue = [*le_name_mapping]\n",
        "    labelDict[labelKey] =labelValue\n",
        "\n",
        "for key, value in labelDict.items():\n",
        "    print(key, value)"
      ],
      "execution_count": null,
      "outputs": [
        {
          "output_type": "stream",
          "name": "stdout",
          "text": [
            "label_Timestamp ['2014-08-27 11:29:31', '2014-08-27 11:29:37', '2014-08-27 11:29:44', '2014-08-27 11:29:46', '2014-08-27 11:30:22', '2014-08-27 11:31:22', '2014-08-27 11:31:50', '2014-08-27 11:32:05', '2014-08-27 11:32:39', '2014-08-27 11:32:43', '2014-08-27 11:32:44', '2014-08-27 11:32:49', '2014-08-27 11:33:23', '2014-08-27 11:33:26', '2014-08-27 11:33:57', '2014-08-27 11:34:00', '2014-08-27 11:34:20', '2014-08-27 11:34:37', '2014-08-27 11:34:53', '2014-08-27 11:35:08', '2014-08-27 11:35:12', '2014-08-27 11:35:24', '2014-08-27 11:35:48', '2014-08-27 11:36:24', '2014-08-27 11:36:48', '2014-08-27 11:37:08', '2014-08-27 11:37:23', '2014-08-27 11:37:59', '2014-08-27 11:38:12', '2014-08-27 11:38:18', '2014-08-27 11:38:55', '2014-08-27 11:39:03', '2014-08-27 11:39:31', '2014-08-27 11:39:36', '2014-08-27 11:40:51', '2014-08-27 11:41:17', '2014-08-27 11:41:37', '2014-08-27 11:41:50', '2014-08-27 11:42:08', '2014-08-27 11:42:15', '2014-08-27 11:42:25', '2014-08-27 11:42:31', '2014-08-27 11:43:07', '2014-08-27 11:43:10', '2014-08-27 11:43:22', '2014-08-27 11:43:36', '2014-08-27 11:43:45', '2014-08-27 11:43:48', '2014-08-27 11:43:56', '2014-08-27 11:44:43', '2014-08-27 11:44:55', '2014-08-27 11:45:32', '2014-08-27 11:45:33', '2014-08-27 11:45:51', '2014-08-27 11:46:36', '2014-08-27 11:46:49', '2014-08-27 11:46:55', '2014-08-27 11:47:10', '2014-08-27 11:47:33', '2014-08-27 11:47:56', '2014-08-27 11:48:57', '2014-08-27 11:49:51', '2014-08-27 11:50:27', '2014-08-27 11:50:28', '2014-08-27 11:50:46', '2014-08-27 11:51:07', '2014-08-27 11:51:34', '2014-08-27 11:52:07', '2014-08-27 11:52:41', '2014-08-27 11:52:44', '2014-08-27 11:53:05', '2014-08-27 11:53:25', '2014-08-27 11:54:27', '2014-08-27 11:56:17', '2014-08-27 11:56:29', '2014-08-27 11:57:30', '2014-08-27 11:57:33', '2014-08-27 11:57:54', '2014-08-27 11:59:31', '2014-08-27 12:00:02', '2014-08-27 12:01:50', '2014-08-27 12:02:40', '2014-08-27 12:02:52', '2014-08-27 12:03:30', '2014-08-27 12:05:13', '2014-08-27 12:05:37', '2014-08-27 12:07:08', '2014-08-27 12:10:43', '2014-08-27 12:11:00', '2014-08-27 12:11:07', '2014-08-27 12:12:47', '2014-08-27 12:13:30', '2014-08-27 12:14:13', '2014-08-27 12:15:11', '2014-08-27 12:15:19', '2014-08-27 12:15:30', '2014-08-27 12:16:21', '2014-08-27 12:17:01', '2014-08-27 12:18:02', '2014-08-27 12:18:04', '2014-08-27 12:18:14', '2014-08-27 12:18:38', '2014-08-27 12:19:52', '2014-08-27 12:20:10', '2014-08-27 12:22:55', '2014-08-27 12:23:48', '2014-08-27 12:23:59', '2014-08-27 12:25:09', '2014-08-27 12:28:12', '2014-08-27 12:28:16', '2014-08-27 12:29:25', '2014-08-27 12:31:02', '2014-08-27 12:31:03', '2014-08-27 12:31:14', '2014-08-27 12:31:28', '2014-08-27 12:31:34', '2014-08-27 12:31:41', '2014-08-27 12:31:43', '2014-08-27 12:32:24', '2014-08-27 12:32:59', '2014-08-27 12:33:00', '2014-08-27 12:33:23', '2014-08-27 12:33:36', '2014-08-27 12:33:56', '2014-08-27 12:34:11', '2014-08-27 12:34:13', '2014-08-27 12:34:35', '2014-08-27 12:34:48', '2014-08-27 12:34:51', '2014-08-27 12:34:57', '2014-08-27 12:35:23', '2014-08-27 12:36:03', '2014-08-27 12:36:18', '2014-08-27 12:36:53', '2014-08-27 12:37:09', '2014-08-27 12:37:26', '2014-08-27 12:37:31', '2014-08-27 12:37:50', '2014-08-27 12:38:11', '2014-08-27 12:38:18', '2014-08-27 12:38:25', '2014-08-27 12:39:14', '2014-08-27 12:39:18', '2014-08-27 12:39:21', '2014-08-27 12:39:48', '2014-08-27 12:39:57', '2014-08-27 12:40:03', '2014-08-27 12:40:06', '2014-08-27 12:40:36', '2014-08-27 12:40:53', '2014-08-27 12:41:04', '2014-08-27 12:41:20', '2014-08-27 12:41:59', '2014-08-27 12:42:24', '2014-08-27 12:42:52', '2014-08-27 12:43:28', '2014-08-27 12:43:40', '2014-08-27 12:43:53', '2014-08-27 12:44:51', '2014-08-27 12:45:44', '2014-08-27 12:46:03', '2014-08-27 12:47:25', '2014-08-27 12:48:06', '2014-08-27 12:48:29', '2014-08-27 12:48:37', '2014-08-27 12:48:39', '2014-08-27 12:48:40', '2014-08-27 12:48:51', '2014-08-27 12:49:21', '2014-08-27 12:49:27', '2014-08-27 12:49:30', '2014-08-27 12:49:39', '2014-08-27 12:50:36', '2014-08-27 12:50:57', '2014-08-27 12:51:25', '2014-08-27 12:51:36', '2014-08-27 12:51:42', '2014-08-27 12:51:50', '2014-08-27 12:51:51', '2014-08-27 12:51:55', '2014-08-27 12:52:08', '2014-08-27 12:52:46', '2014-08-27 12:52:49', '2014-08-27 12:53:00', '2014-08-27 12:53:05', '2014-08-27 12:53:13', '2014-08-27 12:53:15', '2014-08-27 12:53:40', '2014-08-27 12:54:11', '2014-08-27 12:54:30', '2014-08-27 12:54:47', '2014-08-27 12:55:01', '2014-08-27 12:55:38', '2014-08-27 12:56:13', '2014-08-27 12:56:56', '2014-08-27 12:57:38', '2014-08-27 12:57:52', '2014-08-27 12:58:10', '2014-08-27 12:58:42', '2014-08-27 13:00:38', '2014-08-27 13:02:14', '2014-08-27 13:03:05', '2014-08-27 13:04:18', '2014-08-27 13:04:45', '2014-08-27 13:05:45', '2014-08-27 13:06:00', '2014-08-27 13:06:12', '2014-08-27 13:07:24', '2014-08-27 13:07:40', '2014-08-27 13:07:42', '2014-08-27 13:07:46', '2014-08-27 13:08:17', '2014-08-27 13:09:24', '2014-08-27 13:09:37', '2014-08-27 13:09:39', '2014-08-27 13:12:31', '2014-08-27 13:12:43', '2014-08-27 13:14:53', '2014-08-27 13:15:19', '2014-08-27 13:15:25', '2014-08-27 13:18:18', '2014-08-27 13:18:44', '2014-08-27 13:19:40', '2014-08-27 13:21:00', '2014-08-27 13:22:42', '2014-08-27 13:22:49', '2014-08-27 13:23:38', '2014-08-27 13:24:34', '2014-08-27 13:24:57', '2014-08-27 13:26:35', '2014-08-27 13:26:54', '2014-08-27 13:27:18', '2014-08-27 13:29:45', '2014-08-27 13:29:57', '2014-08-27 13:31:03', '2014-08-27 13:31:35', '2014-08-27 13:32:31', '2014-08-27 13:32:48', '2014-08-27 13:33:32', '2014-08-27 13:34:03', '2014-08-27 13:35:23', '2014-08-27 13:35:40', '2014-08-27 13:37:18', '2014-08-27 13:37:47', '2014-08-27 13:38:17', '2014-08-27 13:39:00', '2014-08-27 13:40:58', '2014-08-27 13:42:38', '2014-08-27 13:44:05', '2014-08-27 13:44:47', '2014-08-27 13:46:03', '2014-08-27 13:47:05', '2014-08-27 13:47:27', '2014-08-27 13:48:01', '2014-08-27 13:49:15', '2014-08-27 13:49:32', '2014-08-27 13:52:05', '2014-08-27 13:52:57', '2014-08-27 13:53:21', '2014-08-27 13:53:44', '2014-08-27 13:53:51', '2014-08-27 13:54:00', '2014-08-27 13:54:24', '2014-08-27 13:55:16', '2014-08-27 13:55:22', '2014-08-27 13:55:38', '2014-08-27 13:56:27', '2014-08-27 13:56:35', '2014-08-27 13:59:24', '2014-08-27 13:59:35', '2014-08-27 14:01:25', '2014-08-27 14:01:35', '2014-08-27 14:01:54', '2014-08-27 14:03:16', '2014-08-27 14:03:54', '2014-08-27 14:03:59', '2014-08-27 14:06:26', '2014-08-27 14:10:15', '2014-08-27 14:10:47', '2014-08-27 14:10:53', '2014-08-27 14:11:46', '2014-08-27 14:11:52', '2014-08-27 14:11:55', '2014-08-27 14:13:02', '2014-08-27 14:13:16', '2014-08-27 14:13:24', '2014-08-27 14:14:52', '2014-08-27 14:15:13', '2014-08-27 14:15:21', '2014-08-27 14:15:57', '2014-08-27 14:16:00', '2014-08-27 14:18:20', '2014-08-27 14:18:41', '2014-08-27 14:18:44', '2014-08-27 14:19:08', '2014-08-27 14:19:12', '2014-08-27 14:20:08', '2014-08-27 14:20:43', '2014-08-27 14:21:37', '2014-08-27 14:21:42', '2014-08-27 14:22:00', '2014-08-27 14:22:36', '2014-08-27 14:22:43', '2014-08-27 14:23:51', '2014-08-27 14:23:53', '2014-08-27 14:24:15', '2014-08-27 14:25:41', '2014-08-27 14:25:54', '2014-08-27 14:26:32', '2014-08-27 14:27:20', '2014-08-27 14:27:27', '2014-08-27 14:27:28', '2014-08-27 14:27:51', '2014-08-27 14:28:28', '2014-08-27 14:28:41', '2014-08-27 14:28:43', '2014-08-27 14:28:49', '2014-08-27 14:28:51', '2014-08-27 14:29:19', '2014-08-27 14:30:33', '2014-08-27 14:31:06', '2014-08-27 14:31:28', '2014-08-27 14:31:44', '2014-08-27 14:32:22', '2014-08-27 14:32:46', '2014-08-27 14:33:44', '2014-08-27 14:34:47', '2014-08-27 14:37:33', '2014-08-27 14:37:35', '2014-08-27 14:37:46', '2014-08-27 14:38:06', '2014-08-27 14:38:13', '2014-08-27 14:38:26', '2014-08-27 14:38:49', '2014-08-27 14:38:54', '2014-08-27 14:39:07', '2014-08-27 14:39:20', '2014-08-27 14:41:09', '2014-08-27 14:41:16', '2014-08-27 14:44:29', '2014-08-27 14:45:12', '2014-08-27 14:45:45', '2014-08-27 14:47:10', '2014-08-27 14:47:28', '2014-08-27 14:49:08', '2014-08-27 14:49:30', '2014-08-27 14:51:29', '2014-08-27 14:52:44', '2014-08-27 14:52:53', '2014-08-27 14:53:11', '2014-08-27 14:54:23', '2014-08-27 14:54:56', '2014-08-27 14:57:46', '2014-08-27 14:58:01', '2014-08-27 14:59:59', '2014-08-27 15:03:56', '2014-08-27 15:04:41', '2014-08-27 15:05:00', '2014-08-27 15:05:21', '2014-08-27 15:09:58', '2014-08-27 15:11:30', '2014-08-27 15:13:33', '2014-08-27 15:14:50', '2014-08-27 15:15:29', '2014-08-27 15:15:42', '2014-08-27 15:20:53', '2014-08-27 15:21:59', '2014-08-27 15:22:20', '2014-08-27 15:22:26', '2014-08-27 15:22:43', '2014-08-27 15:22:45', '2014-08-27 15:22:50', '2014-08-27 15:22:52', '2014-08-27 15:23:06', '2014-08-27 15:23:07', '2014-08-27 15:23:19', '2014-08-27 15:23:30', '2014-08-27 15:23:33', '2014-08-27 15:23:51', '2014-08-27 15:23:54', '2014-08-27 15:24:22', '2014-08-27 15:24:27', '2014-08-27 15:24:28', '2014-08-27 15:24:47', '2014-08-27 15:24:49', '2014-08-27 15:24:55', '2014-08-27 15:24:56', '2014-08-27 15:25:03', '2014-08-27 15:25:09', '2014-08-27 15:25:16', '2014-08-27 15:25:41', '2014-08-27 15:25:47', '2014-08-27 15:26:05', '2014-08-27 15:26:37', '2014-08-27 15:26:40', '2014-08-27 15:26:57', '2014-08-27 15:27:25', '2014-08-27 15:27:31', '2014-08-27 15:27:38', '2014-08-27 15:27:39', '2014-08-27 15:28:34', '2014-08-27 15:28:50', '2014-08-27 15:29:03', '2014-08-27 15:29:07', '2014-08-27 15:29:23', '2014-08-27 15:30:51', '2014-08-27 15:31:10', '2014-08-27 15:31:18', '2014-08-27 15:31:20', '2014-08-27 15:31:31', '2014-08-27 15:31:38', '2014-08-27 15:31:40', '2014-08-27 15:32:09', '2014-08-27 15:32:19', '2014-08-27 15:32:43', '2014-08-27 15:34:23', '2014-08-27 15:34:31', '2014-08-27 15:34:32', '2014-08-27 15:35:21', '2014-08-27 15:35:37', '2014-08-27 15:35:50', '2014-08-27 15:36:13', '2014-08-27 15:36:41', '2014-08-27 15:38:07', '2014-08-27 15:38:27', '2014-08-27 15:38:31', '2014-08-27 15:38:32', '2014-08-27 15:38:37', '2014-08-27 15:39:31', '2014-08-27 15:40:03', '2014-08-27 15:43:17', '2014-08-27 15:43:27', '2014-08-27 15:43:30', '2014-08-27 15:43:45', '2014-08-27 15:44:16', '2014-08-27 15:44:20', '2014-08-27 15:46:12', '2014-08-27 15:46:39', '2014-08-27 15:47:26', '2014-08-27 15:47:33', '2014-08-27 15:50:26', '2014-08-27 15:51:36', '2014-08-27 15:53:39', '2014-08-27 15:53:59', '2014-08-27 15:54:45', '2014-08-27 15:55:07', '2014-08-27 15:55:08', '2014-08-27 15:56:37', '2014-08-27 15:58:23', '2014-08-27 15:59:41', '2014-08-27 15:59:47', '2014-08-27 16:00:16', '2014-08-27 16:01:39', '2014-08-27 16:01:52', '2014-08-27 16:02:16', '2014-08-27 16:03:20', '2014-08-27 16:04:01', '2014-08-27 16:06:46', '2014-08-27 16:07:32', '2014-08-27 16:10:10', '2014-08-27 16:11:36', '2014-08-27 16:13:31', '2014-08-27 16:13:40', '2014-08-27 16:13:42', '2014-08-27 16:14:04', '2014-08-27 16:14:43', '2014-08-27 16:15:26', '2014-08-27 16:15:33', '2014-08-27 16:16:40', '2014-08-27 16:16:51', '2014-08-27 16:17:05', '2014-08-27 16:17:41', '2014-08-27 16:18:44', '2014-08-27 16:19:05', '2014-08-27 16:19:25', '2014-08-27 16:20:36', '2014-08-27 16:20:40', '2014-08-27 16:21:11', '2014-08-27 16:21:24', '2014-08-27 16:21:54', '2014-08-27 16:21:55', '2014-08-27 16:22:10', '2014-08-27 16:22:17', '2014-08-27 16:23:14', '2014-08-27 16:25:26', '2014-08-27 16:26:03', '2014-08-27 16:27:04', '2014-08-27 16:27:47', '2014-08-27 16:28:10', '2014-08-27 16:28:20', '2014-08-27 16:29:05', '2014-08-27 16:29:23', '2014-08-27 16:31:16', '2014-08-27 16:32:31', '2014-08-27 16:34:18', '2014-08-27 16:35:02', '2014-08-27 16:36:57', '2014-08-27 16:39:00', '2014-08-27 16:39:01', '2014-08-27 16:40:35', '2014-08-27 16:42:00', '2014-08-27 16:42:55', '2014-08-27 16:47:48', '2014-08-27 16:53:54', '2014-08-27 16:55:04', '2014-08-27 17:00:15', '2014-08-27 17:03:02', '2014-08-27 17:04:29', '2014-08-27 17:08:18', '2014-08-27 17:09:23', '2014-08-27 17:10:56', '2014-08-27 17:12:01', '2014-08-27 17:14:36', '2014-08-27 17:15:25', '2014-08-27 17:19:05', '2014-08-27 17:22:29', '2014-08-27 17:32:04', '2014-08-27 17:33:51', '2014-08-27 17:33:52', '2014-08-27 17:37:41', '2014-08-27 17:39:58', '2014-08-27 17:41:44', '2014-08-27 17:42:49', '2014-08-27 17:46:17', '2014-08-27 17:47:45', '2014-08-27 17:48:54', '2014-08-27 17:49:21', '2014-08-27 17:49:30', '2014-08-27 17:52:31', '2014-08-27 17:56:50', '2014-08-27 18:00:39', '2014-08-27 18:02:32', '2014-08-27 18:02:42', '2014-08-27 18:12:55', '2014-08-27 18:13:38', '2014-08-27 18:14:59', '2014-08-27 18:16:52', '2014-08-27 18:18:18', '2014-08-27 18:22:05', '2014-08-27 18:29:32', '2014-08-27 18:39:43', '2014-08-27 18:41:00', '2014-08-27 18:43:06', '2014-08-27 18:56:46', '2014-08-27 18:59:44', '2014-08-27 19:05:52', '2014-08-27 19:08:31', '2014-08-27 19:13:21', '2014-08-27 19:13:27', '2014-08-27 19:16:15', '2014-08-27 19:17:07', '2014-08-27 19:25:42', '2014-08-27 19:27:25', '2014-08-27 19:28:35', '2014-08-27 19:34:26', '2014-08-27 19:34:56', '2014-08-27 19:38:44', '2014-08-27 19:41:28', '2014-08-27 19:45:36', '2014-08-27 19:59:12', '2014-08-27 20:13:06', '2014-08-27 20:17:52', '2014-08-27 20:33:33', '2014-08-27 20:48:54', '2014-08-27 20:52:20', '2014-08-27 20:52:31', '2014-08-27 20:53:22', '2014-08-27 20:55:48', '2014-08-27 21:05:41', '2014-08-27 21:15:09', '2014-08-27 21:17:31', '2014-08-27 21:21:31', '2014-08-27 21:35:24', '2014-08-27 21:39:23', '2014-08-27 21:45:31', '2014-08-27 21:54:29', '2014-08-27 21:54:32', '2014-08-27 21:55:28', '2014-08-27 22:00:36', '2014-08-27 22:04:43', '2014-08-27 22:04:47', '2014-08-27 22:06:14', '2014-08-27 22:07:34', '2014-08-27 22:11:16', '2014-08-27 22:12:55', '2014-08-27 22:13:55', '2014-08-27 22:14:23', '2014-08-27 22:14:46', '2014-08-27 22:21:48', '2014-08-27 22:26:03', '2014-08-27 22:32:36', '2014-08-27 22:35:40', '2014-08-27 22:36:34', '2014-08-27 22:55:13', '2014-08-27 22:59:23', '2014-08-27 23:09:46', '2014-08-27 23:10:16', '2014-08-27 23:10:23', '2014-08-27 23:14:58', '2014-08-27 23:30:52', '2014-08-27 23:54:08', '2014-08-27 23:56:33', '2014-08-27 23:57:16', '2014-08-27 23:59:59', '2014-08-28 00:02:36', '2014-08-28 00:05:34', '2014-08-28 00:17:24', '2014-08-28 00:43:40', '2014-08-28 00:47:55', '2014-08-28 01:04:45', '2014-08-28 01:14:11', '2014-08-28 01:19:34', '2014-08-28 01:30:12', '2014-08-28 01:38:53', '2014-08-28 01:41:17', '2014-08-28 01:56:43', '2014-08-28 02:15:08', '2014-08-28 02:17:42', '2014-08-28 02:19:29', '2014-08-28 02:30:00', '2014-08-28 02:32:11', '2014-08-28 02:41:47', '2014-08-28 02:46:56', '2014-08-28 02:49:34', '2014-08-28 02:52:45', '2014-08-28 02:54:44', '2014-08-28 03:05:52', '2014-08-28 03:06:14', '2014-08-28 03:13:10', '2014-08-28 03:13:20', '2014-08-28 03:15:01', '2014-08-28 03:16:53', '2014-08-28 03:29:19', '2014-08-28 03:36:10', '2014-08-28 03:42:58', '2014-08-28 03:47:30', '2014-08-28 03:49:56', '2014-08-28 03:52:05', '2014-08-28 04:00:30', '2014-08-28 04:02:47', '2014-08-28 04:07:34', '2014-08-28 04:09:14', '2014-08-28 04:11:27', '2014-08-28 04:16:30', '2014-08-28 04:23:01', '2014-08-28 04:24:03', '2014-08-28 04:30:08', '2014-08-28 04:34:32', '2014-08-28 04:37:54', '2014-08-28 04:53:52', '2014-08-28 05:05:32', '2014-08-28 05:12:15', '2014-08-28 05:14:28', '2014-08-28 06:02:05', '2014-08-28 06:05:18', '2014-08-28 06:10:25', '2014-08-28 06:11:06', '2014-08-28 06:27:59', '2014-08-28 06:30:18', '2014-08-28 07:01:30', '2014-08-28 07:03:00', '2014-08-28 07:03:03', '2014-08-28 07:12:03', '2014-08-28 08:00:40', '2014-08-28 08:06:43', '2014-08-28 08:18:06', '2014-08-28 08:23:11', '2014-08-28 08:39:49', '2014-08-28 08:40:55', '2014-08-28 08:43:23', '2014-08-28 08:43:57', '2014-08-28 08:43:58', '2014-08-28 09:02:16', '2014-08-28 09:09:30', '2014-08-28 09:16:21', '2014-08-28 09:18:13', '2014-08-28 09:40:42', '2014-08-28 09:53:42', '2014-08-28 09:53:57', '2014-08-28 09:54:21', '2014-08-28 09:54:38', '2014-08-28 09:54:47', '2014-08-28 09:54:51', '2014-08-28 09:55:14', '2014-08-28 09:56:03', '2014-08-28 09:56:04', '2014-08-28 09:56:10', '2014-08-28 09:56:21', '2014-08-28 09:56:30', '2014-08-28 09:57:02', '2014-08-28 09:57:10', '2014-08-28 09:57:25', '2014-08-28 09:58:08', '2014-08-28 09:59:39', '2014-08-28 10:00:48', '2014-08-28 10:01:15', '2014-08-28 10:01:31', '2014-08-28 10:02:09', '2014-08-28 10:02:23', '2014-08-28 10:02:45', '2014-08-28 10:04:34', '2014-08-28 10:04:41', '2014-08-28 10:05:43', '2014-08-28 10:07:37', '2014-08-28 10:07:53', '2014-08-28 10:08:19', '2014-08-28 10:08:34', '2014-08-28 10:10:29', '2014-08-28 10:11:52', '2014-08-28 10:13:44', '2014-08-28 10:15:52', '2014-08-28 10:16:55', '2014-08-28 10:17:19', '2014-08-28 10:18:34', '2014-08-28 10:18:46', '2014-08-28 10:20:37', '2014-08-28 10:22:06', '2014-08-28 10:24:19', '2014-08-28 10:25:39', '2014-08-28 10:29:47', '2014-08-28 10:30:04', '2014-08-28 10:30:44', '2014-08-28 10:34:01', '2014-08-28 10:35:55', '2014-08-28 10:42:09', '2014-08-28 10:45:21', '2014-08-28 10:47:12', '2014-08-28 10:51:08', '2014-08-28 10:52:33', '2014-08-28 10:54:31', '2014-08-28 10:57:23', '2014-08-28 11:02:41', '2014-08-28 11:04:00', '2014-08-28 11:04:17', '2014-08-28 11:07:23', '2014-08-28 11:09:03', '2014-08-28 11:10:53', '2014-08-28 11:14:21', '2014-08-28 11:15:42', '2014-08-28 11:19:35', '2014-08-28 11:20:14', '2014-08-28 11:21:17', '2014-08-28 11:21:48', '2014-08-28 11:22:04', '2014-08-28 11:26:15', '2014-08-28 11:27:56', '2014-08-28 11:29:20', '2014-08-28 11:32:37', '2014-08-28 11:34:36', '2014-08-28 11:36:48', '2014-08-28 11:38:30', '2014-08-28 11:40:11', '2014-08-28 11:44:43', '2014-08-28 11:47:35', '2014-08-28 11:48:12', '2014-08-28 11:50:06', '2014-08-28 11:50:28', '2014-08-28 11:54:23', '2014-08-28 11:58:21', '2014-08-28 11:59:23', '2014-08-28 12:02:59', '2014-08-28 12:05:41', '2014-08-28 12:06:55', '2014-08-28 12:07:28', '2014-08-28 12:08:30', '2014-08-28 12:09:18', '2014-08-28 12:10:08', '2014-08-28 12:10:42', '2014-08-28 12:12:49', '2014-08-28 12:15:08', '2014-08-28 12:19:34', '2014-08-28 12:19:42', '2014-08-28 12:22:14', '2014-08-28 12:23:37', '2014-08-28 12:30:20', '2014-08-28 12:40:46', '2014-08-28 12:42:12', '2014-08-28 12:42:30', '2014-08-28 12:44:55', '2014-08-28 12:53:21', '2014-08-28 13:01:26', '2014-08-28 13:04:30', '2014-08-28 13:08:36', '2014-08-28 13:11:05', '2014-08-28 13:17:40', '2014-08-28 13:26:17', '2014-08-28 13:32:37', '2014-08-28 13:34:57', '2014-08-28 13:35:25', '2014-08-28 13:39:12', '2014-08-28 13:39:40', '2014-08-28 13:40:08', '2014-08-28 13:41:51', '2014-08-28 13:47:37', '2014-08-28 13:47:57', '2014-08-28 13:48:30', '2014-08-28 13:54:47', '2014-08-28 13:57:01', '2014-08-28 14:00:02', '2014-08-28 14:01:56', '2014-08-28 14:02:07', '2014-08-28 14:04:54', '2014-08-28 14:12:58', '2014-08-28 14:15:02', '2014-08-28 14:31:00', '2014-08-28 14:38:50', '2014-08-28 14:41:47', '2014-08-28 14:46:08', '2014-08-28 14:51:46', '2014-08-28 14:52:46', '2014-08-28 14:53:02', '2014-08-28 14:53:32', '2014-08-28 14:57:10', '2014-08-28 15:01:46', '2014-08-28 15:25:39', '2014-08-28 15:32:03', '2014-08-28 15:37:04', '2014-08-28 15:40:32', '2014-08-28 15:43:37', '2014-08-28 15:48:12', '2014-08-28 15:50:12', '2014-08-28 15:50:44', '2014-08-28 15:54:35', '2014-08-28 15:56:47', '2014-08-28 16:09:35', '2014-08-28 16:17:09', '2014-08-28 16:31:00', '2014-08-28 16:42:49', '2014-08-28 16:52:23', '2014-08-28 16:52:34', '2014-08-28 16:54:49', '2014-08-28 16:55:07', '2014-08-28 16:55:31', '2014-08-28 16:56:26', '2014-08-28 16:56:57', '2014-08-28 16:56:58', '2014-08-28 16:57:07', '2014-08-28 16:57:46', '2014-08-28 16:57:49', '2014-08-28 16:58:33', '2014-08-28 16:58:50', '2014-08-28 17:01:06', '2014-08-28 17:01:21', '2014-08-28 17:01:25', '2014-08-28 17:02:27', '2014-08-28 17:02:29', '2014-08-28 17:02:44', '2014-08-28 17:02:56', '2014-08-28 17:03:42', '2014-08-28 17:07:11', '2014-08-28 17:07:28', '2014-08-28 17:07:39', '2014-08-28 17:08:16', '2014-08-28 17:09:03', '2014-08-28 17:10:00', '2014-08-28 17:10:04', '2014-08-28 17:10:08', '2014-08-28 17:11:48', '2014-08-28 17:12:30', '2014-08-28 17:14:31', '2014-08-28 17:16:53', '2014-08-28 17:19:05', '2014-08-28 17:19:27', '2014-08-28 17:19:53', '2014-08-28 17:20:23', '2014-08-28 17:20:41', '2014-08-28 17:21:01', '2014-08-28 17:21:43', '2014-08-28 17:22:18', '2014-08-28 17:22:53', '2014-08-28 17:23:19', '2014-08-28 17:27:03', '2014-08-28 17:27:47', '2014-08-28 17:28:46', '2014-08-28 17:28:58', '2014-08-28 17:31:06', '2014-08-28 17:33:05', '2014-08-28 17:33:20', '2014-08-28 17:34:30', '2014-08-28 17:35:14', '2014-08-28 17:36:48', '2014-08-28 17:39:06', '2014-08-28 17:45:21', '2014-08-28 17:46:37', '2014-08-28 17:47:45', '2014-08-28 17:47:49', '2014-08-28 17:50:32', '2014-08-28 17:56:02', '2014-08-28 17:57:39', '2014-08-28 17:57:42', '2014-08-28 17:59:31', '2014-08-28 17:59:54', '2014-08-28 17:59:57', '2014-08-28 18:01:00', '2014-08-28 18:02:09', '2014-08-28 18:07:42', '2014-08-28 18:17:41', '2014-08-28 18:18:43', '2014-08-28 18:21:23', '2014-08-28 18:21:58', '2014-08-28 18:26:35', '2014-08-28 18:50:47', '2014-08-28 19:03:47', '2014-08-28 19:04:05', '2014-08-28 19:15:35', '2014-08-28 19:26:03', '2014-08-28 19:28:27', '2014-08-28 19:35:39', '2014-08-28 20:12:08', '2014-08-28 20:31:02', '2014-08-28 20:49:55', '2014-08-28 21:22:40', '2014-08-28 21:24:48', '2014-08-28 21:27:19', '2014-08-28 21:30:35', '2014-08-28 21:33:32', '2014-08-28 21:38:12', '2014-08-28 21:41:53', '2014-08-28 21:47:33', '2014-08-28 22:16:34', '2014-08-28 22:17:15', '2014-08-28 22:18:41', '2014-08-28 22:20:33', '2014-08-28 22:22:39', '2014-08-28 22:23:47', '2014-08-28 22:35:10', '2014-08-28 22:39:57', '2014-08-28 22:46:40', '2014-08-28 23:03:05', '2014-08-28 23:13:18', '2014-08-28 23:16:30', '2014-08-28 23:57:07', '2014-08-29 00:05:07', '2014-08-29 00:06:49', '2014-08-29 00:11:17', '2014-08-29 00:41:25', '2014-08-29 00:43:37', '2014-08-29 00:47:09', '2014-08-29 01:14:09', '2014-08-29 01:20:32', '2014-08-29 01:40:36', '2014-08-29 02:10:57', '2014-08-29 02:24:13', '2014-08-29 03:02:16', '2014-08-29 03:02:45', '2014-08-29 03:08:25', '2014-08-29 04:39:23', '2014-08-29 04:53:12', '2014-08-29 05:15:30', '2014-08-29 05:24:07', '2014-08-29 05:39:21', '2014-08-29 05:47:19', '2014-08-29 05:54:26', '2014-08-29 05:57:48', '2014-08-29 06:06:46', '2014-08-29 06:37:49', '2014-08-29 06:42:57', '2014-08-29 07:12:43', '2014-08-29 07:21:30', '2014-08-29 07:28:17', '2014-08-29 07:51:42', '2014-08-29 08:26:36', '2014-08-29 08:36:24', '2014-08-29 08:46:31', '2014-08-29 08:53:19', '2014-08-29 08:54:23', '2014-08-29 08:57:14', '2014-08-29 08:57:42', '2014-08-29 08:59:08', '2014-08-29 08:59:40', '2014-08-29 09:01:01', '2014-08-29 09:01:45', '2014-08-29 09:02:04', '2014-08-29 09:02:56', '2014-08-29 09:03:50', '2014-08-29 09:10:08', '2014-08-29 09:12:16', '2014-08-29 09:13:43', '2014-08-29 09:14:45', '2014-08-29 09:15:05', '2014-08-29 09:15:52', '2014-08-29 09:19:25', '2014-08-29 09:23:22', '2014-08-29 09:23:44', '2014-08-29 09:24:34', '2014-08-29 09:27:12', '2014-08-29 09:29:37', '2014-08-29 09:31:37', '2014-08-29 09:31:49', '2014-08-29 09:33:43', '2014-08-29 09:35:46', '2014-08-29 09:36:04', '2014-08-29 09:36:46', '2014-08-29 09:40:13', '2014-08-29 09:42:23', '2014-08-29 09:46:56', '2014-08-29 09:47:10', '2014-08-29 09:47:30', '2014-08-29 09:51:35', '2014-08-29 09:53:38', '2014-08-29 09:53:50', '2014-08-29 09:54:01', '2014-08-29 09:54:11', '2014-08-29 09:58:55', '2014-08-29 09:59:39', '2014-08-29 10:03:24', '2014-08-29 10:05:57', '2014-08-29 10:06:29', '2014-08-29 10:12:10', '2014-08-29 10:13:39', '2014-08-29 10:13:43', '2014-08-29 10:16:45', '2014-08-29 10:27:15', '2014-08-29 10:30:09', '2014-08-29 10:32:24', '2014-08-29 10:33:45', '2014-08-29 10:38:23', '2014-08-29 10:38:29', '2014-08-29 10:55:24', '2014-08-29 10:59:57', '2014-08-29 11:01:41', '2014-08-29 11:02:23', '2014-08-29 11:04:19', '2014-08-29 11:05:00', '2014-08-29 11:11:00', '2014-08-29 11:12:22', '2014-08-29 11:19:46', '2014-08-29 11:20:13', '2014-08-29 11:20:28', '2014-08-29 11:20:52', '2014-08-29 11:22:46', '2014-08-29 11:23:21', '2014-08-29 11:24:48', '2014-08-29 11:25:30', '2014-08-29 11:27:47', '2014-08-29 11:32:22', '2014-08-29 11:32:44', '2014-08-29 11:33:54', '2014-08-29 11:34:07', '2014-08-29 11:36:38', '2014-08-29 11:39:33', '2014-08-29 11:40:29', '2014-08-29 11:43:12', '2014-08-29 11:44:33', '2014-08-29 11:46:27', '2014-08-29 11:53:59', '2014-08-29 11:54:38', '2014-08-29 11:56:18', '2014-08-29 12:00:33', '2014-08-29 12:08:12', '2014-08-29 12:15:57', '2014-08-29 12:20:01', '2014-08-29 12:26:21', '2014-08-29 12:27:54', '2014-08-29 12:45:11', '2014-08-29 12:48:20', '2014-08-29 12:54:31', '2014-08-29 13:17:33', '2014-08-29 13:23:40', '2014-08-29 13:58:25', '2014-08-29 14:04:59', '2014-08-29 14:09:21', '2014-08-29 14:31:00', '2014-08-29 14:51:49', '2014-08-29 14:59:43', '2014-08-29 15:10:39', '2014-08-29 15:59:55', '2014-08-29 16:07:05', '2014-08-29 16:17:32', '2014-08-29 16:21:16', '2014-08-29 16:30:50', '2014-08-29 16:50:08', '2014-08-29 16:51:31', '2014-08-29 16:56:06', '2014-08-29 17:04:07', '2014-08-29 17:04:12', '2014-08-29 17:26:15', '2014-08-29 17:32:31', '2014-08-29 17:35:16', '2014-08-29 17:54:32', '2014-08-29 18:33:32', '2014-08-29 18:39:07', '2014-08-29 19:32:13', '2014-08-29 19:34:40', '2014-08-29 20:53:09', '2014-08-29 20:53:58', '2014-08-29 21:26:44', '2014-08-29 21:28:14', '2014-08-29 21:40:26', '2014-08-29 22:08:51', '2014-08-29 23:51:01', '2014-08-30 00:09:55', '2014-08-30 03:55:19', '2014-08-30 05:05:44', '2014-08-30 05:47:08', '2014-08-30 06:48:28', '2014-08-30 07:31:05', '2014-08-30 11:48:52', '2014-08-30 12:35:06', '2014-08-30 13:23:57', '2014-08-30 13:48:34', '2014-08-30 13:55:45', '2014-08-30 14:00:22', '2014-08-30 15:57:04', '2014-08-30 16:13:40', '2014-08-30 16:38:02', '2014-08-30 18:29:00', '2014-08-30 19:35:58', '2014-08-30 19:56:23', '2014-08-30 20:12:33', '2014-08-30 20:19:37', '2014-08-30 20:43:51', '2014-08-30 20:46:35', '2014-08-31 04:31:11', '2014-08-31 09:19:43', '2014-08-31 15:03:12', '2014-08-31 15:23:16', '2014-08-31 16:48:13', '2014-08-31 22:11:48', '2014-08-31 22:16:40', '2014-09-01 04:28:55', '2014-09-01 06:52:31', '2014-09-01 06:53:28', '2014-09-01 08:19:15', '2014-09-01 08:23:15', '2014-09-01 09:12:15', '2014-09-01 09:15:34', '2014-09-01 10:06:14', '2014-09-01 10:40:32', '2014-09-01 12:00:28', '2014-09-01 12:45:24', '2014-09-01 17:59:14', '2014-09-01 21:03:25', '2014-09-01 21:34:12', '2014-09-01 22:58:47', '2014-09-02 03:13:53', '2014-09-02 04:00:58', '2014-09-02 08:00:33', '2014-09-02 08:24:43', '2014-09-02 09:57:22', '2014-09-02 13:18:35', '2014-09-02 17:04:56', '2014-09-02 20:23:49', '2014-09-02 20:57:56', '2014-09-03 01:32:51', '2014-09-03 13:09:52', '2014-09-04 06:23:48', '2014-09-04 08:35:49', '2014-09-04 17:38:22', '2014-09-04 23:42:28', '2014-09-05 14:15:48', '2014-09-05 14:19:00', '2014-09-08 00:52:31', '2014-09-08 16:46:53', '2014-09-08 21:30:59', '2014-09-09 13:49:50', '2014-09-11 17:00:30', '2014-09-12 19:18:18', '2014-09-13 07:52:27', '2014-09-14 09:04:08', '2014-09-14 20:50:05', '2014-09-20 13:51:05', '2014-09-23 20:05:05', '2014-09-26 08:45:56', '2014-09-26 10:05:55', '2014-09-26 21:25:14', '2014-09-30 09:19:01', '2014-10-02 21:25:16', '2014-10-05 21:16:10', '2014-10-09 11:14:59', '2014-11-05 10:08:44', '2014-11-06 11:24:38', '2014-11-16 08:42:35', '2014-12-01 09:58:28', '2014-12-15 00:43:49', '2015-01-03 03:38:30', '2015-02-21 04:16:05', '2015-02-21 04:16:23', '2015-02-21 04:18:48', '2015-02-21 04:19:28', '2015-02-21 04:23:05', '2015-02-21 04:32:45', '2015-02-21 04:34:56', '2015-02-21 04:41:28', '2015-02-21 04:51:53', '2015-02-21 04:55:11', '2015-02-21 05:11:37', '2015-02-21 05:34:27', '2015-02-21 05:55:13', '2015-02-21 05:55:17', '2015-02-21 06:06:09', '2015-02-21 06:19:41', '2015-02-21 08:21:36', '2015-02-21 08:54:40', '2015-02-21 08:56:27', '2015-02-21 09:10:26', '2015-02-21 09:16:45', '2015-02-21 09:18:20', '2015-02-21 09:19:12', '2015-02-21 09:22:23', '2015-02-21 09:29:20', '2015-02-21 09:30:14', '2015-02-21 09:30:29', '2015-02-21 09:33:29', '2015-02-21 09:48:13', '2015-02-21 10:00:50', '2015-02-21 10:45:51', '2015-02-21 11:48:52', '2015-02-21 11:55:46', '2015-02-21 13:19:11', '2015-02-21 15:28:57', '2015-02-21 17:19:18', '2015-02-21 18:54:12', '2015-02-21 18:59:05', '2015-02-22 02:40:32', '2015-02-24 08:54:35', '2015-02-24 08:58:08', '2015-02-24 09:00:56', '2015-02-24 09:13:49', '2015-02-24 09:15:13', '2015-02-24 09:18:25', '2015-02-24 10:32:32', '2015-02-26 05:44:16', '2015-04-02 15:47:43', '2015-04-04 11:22:05', '2015-04-06 14:58:29', '2015-04-11 14:35:22', '2015-04-23 14:03:51', '2015-05-05 14:22:18', '2015-05-05 15:16:25', '2015-05-06 10:14:50', '2015-05-06 16:55:58', '2015-05-07 10:08:50', '2015-06-25 12:24:31', '2015-07-22 18:57:54', '2015-07-27 23:25:34', '2015-08-17 09:38:35', '2015-08-20 16:52:09', '2015-08-25 19:59:38', '2015-09-12 11:17:21', '2015-09-26 01:07:35', '2015-11-07 12:36:58', '2015-11-30 21:25:06', '2016-02-01 23:04:31']\n",
            "label_Age [-1726, -29, 5, 11, 18, 19, 20, 21, 22, 23, 24, 25, 26, 27, 28, 29, 30, 31, 32, 33, 34, 35, 36, 37, 38, 39, 40, 41, 42, 43, 44, 45, 46, 47, 48, 49, 50, 51, 53, 54, 55, 56, 57, 58, 60, 61, 62, 65, 72, 329, 99999999999]\n",
            "label_Gender ['female', 'male', 'trans']\n",
            "label_Country ['Australia', 'Austria', 'Belgium', 'Bosnia and Herzegovina', 'Brazil', 'Bulgaria', 'Canada', 'China', 'Colombia', 'Costa Rica', 'Croatia', 'Czech Republic', 'Denmark', 'Finland', 'France', 'Georgia', 'Germany', 'Greece', 'Hungary', 'India', 'Ireland', 'Israel', 'Italy', 'Japan', 'Latvia', 'Mexico', 'Moldova', 'Netherlands', 'New Zealand', 'Nigeria', 'Norway', 'Philippines', 'Poland', 'Portugal', 'Romania', 'Russia', 'Singapore', 'Slovenia', 'South Africa', 'Spain', 'Sweden', 'Switzerland', 'Thailand', 'United Kingdom', 'United States', 'Uruguay', 'Zimbabwe']\n",
            "label_state ['AL', 'AZ', 'CA', 'CO', 'CT', 'DC', 'FL', 'GA', 'IA', 'ID', 'IL', 'IN', 'KS', 'KY', 'LA', 'MA', 'MD', 'ME', 'MI', 'MN', 'MO', 'MS', 'NC', 'NE', 'NH', 'NJ', 'NM', 'NV', 'NY', 'OH', 'OK', 'OR', 'PA', 'RI', 'SC', 'SD', 'TN', 'TX', 'UT', 'VA', 'VT', 'WA', 'WI', 'WV', 'WY', nan]\n",
            "label_self_employed ['No', 'Yes', nan]\n",
            "label_family_history ['No', 'Yes']\n",
            "label_treatment ['No', 'Yes']\n",
            "label_work_interfere ['Never', 'Often', 'Rarely', 'Sometimes', nan]\n",
            "label_no_employees ['1-5', '100-500', '26-100', '500-1000', '6-25', 'More than 1000']\n",
            "label_remote_work ['No', 'Yes']\n",
            "label_tech_company ['No', 'Yes']\n",
            "label_benefits [\"Don't know\", 'No', 'Yes']\n",
            "label_care_options ['No', 'Not sure', 'Yes']\n",
            "label_wellness_program [\"Don't know\", 'No', 'Yes']\n",
            "label_seek_help [\"Don't know\", 'No', 'Yes']\n",
            "label_anonymity [\"Don't know\", 'No', 'Yes']\n",
            "label_leave [\"Don't know\", 'Somewhat difficult', 'Somewhat easy', 'Very difficult', 'Very easy']\n",
            "label_mental_health_consequence ['Maybe', 'No', 'Yes']\n",
            "label_phys_health_consequence ['Maybe', 'No', 'Yes']\n",
            "label_coworkers ['No', 'Some of them', 'Yes']\n",
            "label_supervisor ['No', 'Some of them', 'Yes']\n",
            "label_mental_health_interview ['Maybe', 'No', 'Yes']\n",
            "label_phys_health_interview ['Maybe', 'No', 'Yes']\n",
            "label_mental_vs_physical [\"Don't know\", 'No', 'Yes']\n",
            "label_obs_consequence ['No', 'Yes']\n",
            "label_comments ['(yes but the situation was unusual and involved a change in leadership at a very high level in the organization as well as an extended leave of absence)', '* Small family business - YMMV.', '-', 'A close family member of mine struggles with mental health so I try not to stigmatize it. My employers/coworkers also seem compassionate toward any kind of health or family needs.', \"A co-worker recently had mental health issues and my employer was very reasonable with them I don't know the full story but I do know that he was given ample time off and eased back in to the work place.\", \"A lot of these answers aren't really applicable since I'm self employed as a sole proprietor.\", 'A strong mind goes a long way. Stay strong. Take some time off to help. Its all in your head. ', 'Although my employer does everything they can to accommodate employees with mental health problems when those individuals cannot carry out any work assigned to them (even over the course of months) they appear to have no alternative but to terminate their employment. However I believe this would be the same for a physical health problem. ', 'At a previous employer I witness a bad thing happen to a coworker with mental health issues get swept under the rug... :(', \"Autism is a bitch for those living with it and living it. For the past years I've really been working hard to get myself (known) in the community. The people in the community that know can be counted on one hand. In general I'm not telling anyway unless it really matters and it would be a gain in some way or the other. Not because I don't trust the community members close to me but because I don't want to be that guy. And IMHO it doesn't and shouldn't matter but sadly some people are funky about that. Yet sometimes I wan't to tell everyone what I've been through and share my lessons learned.\", \"Because I'm self-employed and the only person in my organization I would have liked a not applicable option. I don't want my answers to be misleading.\", \"Being in Canada there are several health options that are available to Canadian citizens/perm residents for free so employers may not provide resources because they are available elsewhere. Otherwise good quiz. I hope this benefits everyone who's dealt with mental health issues in the past!\", 'Bipolar disorder ', 'Bipolar spectrum is tricky.', \"Despite the impression that several 'no' responses might give my employer has been very supportive. But then I work in health care.\", \"Don't know because I haven't checked not because it's difficult to find out. If you didn't have the don't know option I would've looked up the answer.\", \"Family history of depression.  Currently dealing with depression and anxiety as well as drug addition.Employer provides & pays premiums on insurance which covers therapy and prescriptions.  Employer allows work-from-home and unlimited PTO which makes episodes easier to control.I don't speak of my problems to anyone at work except for the people that I consider friends and even then I don't go into great detail.I would never bring up a mental health issue during an interview for fear of discrimination and rejection (and therefore greater depression).  One co-worker had serious anxiety problems and would not inform his team of episodes and was eventually let go for being unresponsive.\", 'For clarity I work at a casino.', 'Fully remote developer', \"Had a co-worker disappear from work for a few weeks and then come back to let everyone know he was bipolar. His responsibilities and schedule were adjusted to accommodate but he got worse didn't show up didn't work etc and was eventually let go.It was tough because on the one hand he was struggling with some mental health issues but on the other hand he went through a period of months where he wasn't performing.\", \"Hi Ed it's Paul Dragoonis. I have Aspergers/High Functioning Autism :-)\", \"I am a 15 year vet of the industry and I get 2 weeks of combined sick and vacation time a year and I have children to fit into that too. I've had heart problems from the stress. Fuck everything about startup culture. \", \"I am a Trans woman and suffer from depression relating to that. I'm a contractor so I've answered the questions as relating to my current contract.\", 'I am a contractor so my lack of knowledge of workplace wellness stems directly from my lack of access to that material since I am not covered by it. I am aware that mental health services are available and am aware of a colleague who has taken a leave of absence to deal with mental health issues but am otherwise uninformed.', \"I am not sure about my company's healthcare because I've opted out of it and I'm covered under another policy.I currently work at a great company though in past jobs I don't think I would have felt comfortable talking about mental health at all.\", \"I answered based on previous job at large technical company where I was pushed out of my role within 3 months of disclosing diagnosis.I had been struggling for 3 months prior to disclosure and was incredibly relieved when finally diagnosed. Growing up in a family open about mental health and also at the end of my rope I immediately shared with management what was going on. I requested a temporary reduced workload so I could reduce anxiety. (At time I didn't know it was anxiety as took me a year to accept that the (to me) deserved stress was anxiety caused by my core diagnosis.) When disclosing I didn't deeply understand details of the state of my mental health; I simply knew I was so stressed out by having been unable to get myself to do work in three months that I couldn't juggle all that was currently on my plate.It was at this point my direct manager and I began an almost daily struggle. After working on a single project and making progress (compared to 3 months before diagnosis when management didn't even know how bad I was doing) I requested increasing my workload. This was never granted; boss said I hadn't proved myself and implied I could not be trusted.Two huge issues stick out to me from that experience:1) Company assumes things would be better and back to 100% within months. They did not understand what one goes through when figuring out meds: things at times got worse. They did not understand how long it takes until meds are figured out: mine took two years. They most certainly would not truly understand why to this day four years later despite being stable I'm in counseling every other week in addition to being on meds. Rather than supporting that it would be seen as oh I'm sorry. I was a problem to my manager because he didn't see improvements each week.2) Accomodations.- There was no option for me to reduce work temporarily to part-time (too complicated). Instead they pushed me to take disability leave. I told them that wouldn't help; they told me to double-check with care providers. That required me to see a psychologist unnecessarily as psychologist said I didn't qualify for leave. (Expensive unnecessary appointment).- The assistance I needed the most at work was understanding: I was open but my manager told me to not tell my co-worker assigned to support me. That was disasterous for colleague's stress/frustration levels. He knew something was up but was barred from asking and I was implied it was better to keep my mouth shut.- Accommodations weren't understood by even Benefits as they're not trained in mental health nor do they have people come in to assess how they're doing in supporting those with mental health issues. Should be no different than people coming in to assess for physical accessibility of the workplace. When in a meeting with my manager supervised by HR I shouldn't feel like I'm asking too much of manager when requesting he put the negative critiques on the back burner and help me figure out whether I'm doing anything right. That this didn't stop him from coming into my office that same day and putting on my dick hat to yell at me for something that wasn't even my fault (he had brought in co-worker for this yelling and turned to finish yelling at this person): FUCKING UNACCEPTABLE.While I will never return to that company and as such took the severance package I will NEVER agree with their legal reason for being unable to do the job: me being medically disqualified from this role. I was too expensive in the short term for them; I'm not worth the cost.\", 'I bring up my depression in interviews solely because I have a large gap on my CV due to mental health issues which could be mistaken for a gap taken to say have children which I feel would harm my chances much more. I have other MH issues I would never bring up with employers or peers.', \"I burnt out this year. I worked too much had too much pressure on myself from being the sole developer on a delayed project that seemed to grow in size with each week it was delayed by and worried about money a lot.I became depressed and anxious and had trouble eating sleeping and generally being myself. As my depression worsened I was regularly late for work couldn't perform as well as I should and became irritable with my colleagues.My employers response after a while was to send me private messages complaining about my lateness which only worsened the situation. I was prescribed 3 weeks off work by my doctor which my employer agreed to only to come back after to find I had been on 'statutory pay' which was roughly half of what I was expecting and was not enough to cover my rent bills AND food. This made me worse and sent me into another depression until I eventually admitted defeat gave up working and left the company. It took me months to recover and I'm now left (over 6 months after this all started) recovering from the fallout I created leaving employment with hardly any money to my name.I had previously been told by my employer that I was too young to burn out and (stupidly) trusted them. I did not feel comfortable discussing my problems with my employer because each time I was met with an attitude that I had to get myself together and ultimately given the amount of employees before me who had left the company by being fired after an altercation with the employer left me with no option but to hide it from them so I too wouldn't be fired.\", \"I currently have the best managers I've ever worked with. I don't have any issues but one of my coworkers recently did and it was handled extremely well. \", \"I don't have a job :D\", \"I don't have any mental health issues but for a number of years I had to care for a family member who did and I felt that I was not able to discuss or get support from friends or colleagues in the same way that I might have if they had suffered from a physical condition.\", \"I feel like most of my answers were useless due to answering that I am self-employed early on. Since my employer is me... my employer does/doesn't offer mental health benefits or would I be comfortable bring it up with 'them' doesn't make sense...\", 'I feel that my employer and colleagues have created my mental health issue. Additionally I have contributed to this by staying in the same job with the same employer for 10+ years.', 'I found it difficult to answer all of the questions effectively as many of them would depend on the nature of the mental health issues as some seem more socially accepted than others. For some people telling your current supervisor that you have a history of bi-polar disorder might be easier than telling a potential employer that you have a history of compulsive gambling. They might both be bits of irrelevant information (past behavior and not indicators of future behavior). However western culture pushes us to appear as capable as possible to our supervisors in pursuit of excellence in our work. Providing information that could create a negative bias seems like a more genuine and yet more risky approach to the discussion.', 'I have Narcolepsy and have been fired from a job before for falling asleep standing up during a meeting. I was standing up in the back of the room so that i could pace and try to prevent myself from falling asleep. I still managed to fall asleep while standing and fell over against the wall. I was fired the next day. The worst part is this is a condition i had given months of notice about to my boss and i reminded her of it before the meeting. I worked at a hospital at the time. I would have thought that they would be more accommodating.', \"I have an exceptional employer. I haven't run into problems with any employer I've had but consider myself lucky.\", \"I have been incredibly public about my own struggle in my own conversations and in social media insofar as how I can use my depression to raise awareness or help others. Because of that my employer - or any future employer - kind of knows by default. It's not a secret. That said the downside of that openness is that I have no faith that I wouldn't be discriminated against at a future job simply because the information is public. Likewise I worry I'm seen as less-than by my employer in some circumstances. Regerdless I don't regret being public and raising awareness. My point is that even those of us who do publicly discuss the issue fear systemic retribution. \", 'I have chronic low-level neurological issues that have mental health side effects. One of my supervisors has also experienced similar neurological problems so I feel more comfortable being open about my issues than I would with someone without that experience. ', 'I have only discussed my mental illness with close family members. I feel completely uncomfortable discussing with anyone at my place of employment as I am concerned it would have negative consequences.', \"I just started a new job last week hence a lot of don't know's\", \"I mostly suffer from social anxiety which keeps me from attending conferences. In my small dev group a big problem is a supervisor who's a workaholic and will never say no when asked to do something so he's doing the job of at least two ppl (poorly) and working crazy hours setting the tone for the test of us that work/life balance isn't important.\", \"I openly discuss my mental health struggles. I have found that doing so encourages people who also struggle to seek treatment. I'm willing to risk losing the support of people who don't understand if it helps those who understand all too well.\", 'I selected my current employer based on its policies about self care and the quality of their overall health and wellness benefits. I still have residual caution from previous employers who ranged from ambivalent to indifferent to actively hostile regarding mental health concerns.', 'I should note one of the places my employer fails with regards to mental health is that the company-paid health insurance policy does not cover trans healthcare needs.', 'I suffer from mild depression and anxiety.', 'I suffered of panic attacks and agoraphobia for about 10 years.', \"I talked to a psychiatrist once about taking medical leave for mental health issues with his referral. He was willing to help but warned me that I may not want to as he's seen that sort of thing follow people throughout their tech careers (word gets out even if it's confidential at work). I've been terrified of bringing mental health up anywhere that coworkers or potential employers could see ever since.\", 'I think I am very lucky in my workplace. Our CEO has a degree in psychology.', \"I think a lot of our policy is based on a situation that occurred in the past 5 years. A very public mental illness happened with a coworker that unfortunately ended negatively. It was definitely a catalyst to talking about our options but the overall sentiment of it being OK to take time off talk with your supervisors etc. has always been there. It's a great company.\", \"I think there might be some bugs in my thought but I haven't sought treatment because they're not worse than annoying and I worry about having the label.\", \"I tried to answer as good as possible but I am CEO of a company so many questions don't fit very well.Also many of the questions are very US-centric in most systems healthcare is not your employers business.\", \"I was (wrongly) diagnosed clinically depressed at 12 then bipolar I at 15 and medicated for a decade until decided myself to go drug free. Since then I've never been happier. Insomnia and my insatiablility for learning and programming have always had a symbiotic  relationship.It might also bear mentioning that I'm self-employed in addition to my more traditional day job.\", \"I went through a divorce and was pretty depressed I went to therapy and my boss (one of the owners) was extremely supportive. I'm not sure I would have got through that rough time with out my co-workers and boss.\", 'I work at a large university with a track record of health and wellbeing support', 'I work for a university.', \"I work for a very small firm that doesn't really have a dedicated H/R person. Also for the question:If you have a mental health condition do you feel that it interferes with your work?...I don't have a diagnosed mental health condition but I suspect I might have some slight depression issues. Definitely have Imposter Syndrome.\", 'I work for an extremely supportive company and we are amazingly open about mental health issues. Employees often share their struggles with the whole team and receive a high level of support in return.', \"I work for the state government. While things are slowly changing regarding covering mental health with state employees it's just not something that is acceptable in this kind of strict environment so I have to be careful about what I say and how I say it. I often take mental health days but have to call in with a physical illness because mental health problems are not acceptable excuses for using sick leave.\", \"I work for the state so the health plan is large and cumbersome.  I believe it covers most medical as a state benefit but I haven't seen any promotion of it.  And it's not really the same as a tech company where I am.  We are an IT department but hardly run like any tech company around.\", \"I would add that while there were negative consequences for coworkers with mental health they were given a HUGE amount of leeway.  I think the team at large tried their best to be kind but that's how the person suffered.  The company actually gave this person a lot of help.  Which was cool.  But the team still discriminated.\", \"I'd be more worried about coworkers and workplace culture than the employer--they're probably legally obligated to do some things but reputation among people I work with is something else. For instance I've heard people make snide remarks about men taking paternity leave I don't want to know what they'd say about mental health leave.\", \"I'm afraid I haven't seen mental health issues arise at work yet. They are very accommodating with maternity leave but I don't know how that translates to anything else.\", \"I'm comfortable talking about mental health with my current supervisor & my immediate at my current job but this is a first for me!\", \"I'm diagnosed with Bipolar Disorder. My benefits for mental health exist but are terrible. The deductible is $800. I see a therapist once or twice a month at the cost of $150. The insurance company only values it at $40. My psychiatrist is $180 for 15 minutes. The insurance company values it at $80. It is IMPOSSIBLE to hit my deductible. I don't even bother making the claims.\", \"I'm not a permanent employee so do not get they benefits they get.My client is extremely supportive of permanent staff with mental health issues.\", \"I'm not aware of anyone with mental health issues at work it's definitely not something that's discussed publicly. There's also a lot of other personal info I don't know about my coworkers so it may just be that we tend not to talk about personal issues.\", \"I'm not on my company's health insurance which could be part of the reason I answered Don't know to so many questions.\", \"I'm self-employed on contract with small start-up. Covered through spouse's insurance.\", \"I'm troubled by the way that our hiring process tends to filter out non-neurotypicals of all stripes. Competent people who act a little funny can be hard to hire.\", \"I've answered 'Yes' on remote working but 50% is the maximum time we're allowed.The branch of the company I work for doesn't offer any medical benefits. It's not as common in the UK as we have the NHS for the moment. There are international branches that may so I've answered 'Don't know'.\", \"I've never heard of a workplace that would actually allow you to call off for mental health reasons. So many places require a doctor's note for calling off sick. It's all set up to make you feel worse if you can't just suck it up. Thanks for working to change this!!!\", \"I've seen negative consequences towards mental health conditions in previous workplaces.Working remote is empowering in this way.\", 'If a man in tech is afraid of speaking up about these things it is even worse for women in tech who are already fearful of and fighting against the stigma of incompetence.  On the other hand if a female in tech does not commiserate with her male coworkers on mental health problems she will no longer be seen as a team player. It is really a catch-22 for women in STEM.', 'In Belgium we have all medical care so perhaps some question are not relevant', \"In Germany your employer doesn't really provide mental health benefits. There's a standard and I get that but I would get the same at any other company in Germany.\", \"In Russia we have mandatory medical insurance. Every employer must pay 3.6% of every employee's salary to the insurance fund like a tax. Everyone gets free healthcare at public clinics and hospitals. Some types of healthcare including mental health are still funded from the government budget but that doesn't matter it's still FREE!However this is Russia :D I don't know much about what actually happens in mental hospitals here except that a lot of young people with male in their passports use these to avoid military draft and doctors seem to help them.\", \"In addition to my own mental health issues I've known several coworkers that may be suffering and I don't know how to tell them I empathize and that I want to help.\", \"In australia all organisations of a certain size have to provide free access to a 'employee assistance program' to discuss work and personal issues.EAPs are an external provider totally confidential and anonymous (ring up andsay the name of who you work for - so they know to bill your work)  and they offer phone and face to face consults.\", \"In my previous workplace which had mental health protections policies and access to counsellors my Director went so far as to say to me in somewhat casual conversation A woman was murdered across the street. At best though she was bipolar and at worst - who knowsI have bipolar disorder. I have zero faith that an organization with policies in place could appropriately handle mental health. I have even less faith that a workplace without the policies in place could appropriately handle mental health. I can only imagine it's worse in full tech environments.\", 'In small startups it is very hard to keep mental health issues truly private no matter what management does.', \"Israel has public health insurance for everyone. Everyone has free mental health coverage and it's quite good. So that explains some of my answers.\", 'It has come to interfere with work as life progresses.Between burn out and enduring more of the work and balancing a family. Changes in my mental health have a larger pond to make ripples in.', \"It might be safe to talk about it where I am now but I don't know for sure and I err on the side of being over cautious. Struggle with depression and anxiety which sometimes affects my productivity but I try to make up / cover up for it instead of being open about it.\", \"It's a small startup in a small city in a small country.\", 'Italians are somewhat behind for what concerns mental health care in the workplace.  Physical health care is very much accepted with a doctor that certifies your ailment.  Mental health is treated quite differently I believe because most people are willing to admit that physical ailments should be covered while mental ailments are almost considered non-existent in most respects.  ', \"Just starting a new job hence the numerous I don't know selections.\", 'Majority of qs on survey not relevant if you are self employed', \"Many of these questions become irrelevant once 'Yes' is selected for 'Are you self-employed'.  It would be preferable for there to be a 'Not Relevant' option on these.\", 'Many of these questions were difficult to answer as a self-employed person; I did my best with the available options.', 'Mental health at work is not an issue if you leave work problems at work that may be easier for those of us not in a support role.', 'Mental health issue I have dealt with: acute depression', 'Most employers / coworkers and even immediate family is not all the time supportive to discuss depression and other problems. ie. My wife thinks she should be able to make sure that I am not depressed  which is funny because sometimes depression state has nothing to do with her. ', \"My company does provide healthcare but not to me as I'm on a fixed-term contract. The mental healthcare I use is provided entirely outside of my work.\", \"My current work situation was constructed in part because of my mental health issues. One of the reasons I'm self employed is to give me the most flexibility for coping with my mental health issues.I have been removed from a client project in the past because of a mental health condition. This was while I was an employee for a large consulting company. \", 'My employer currently does not offer any health insurance I have to get that on my own.  However at past positions I have had health insurance but no one ever mentioned mental health issues nor would I wish to discuss those with my co-workers bosses etc for fear of negative reception.', 'My employer does what they can providing a wellness program and pointing it out after particularly stressful times. But the interaction between the wellness program and the medical insurance is unpleasant and finding a long-term therapist / psychiatrist covered by insurance is amazingly difficult. My current lack of active treatment is due to insurance friction more than workplace friction.', 'My employer employs 17k people worldwide and my previous employer only 140 globally both have been very supportive and accommodating with my moderate depression and intense anxiety.', \"My employer gives access to basic counseling and referrals but I don't know (and it's not obvious) what might be covered in the way of expenses for therapy medication etc.\", \"My employer is extremely easy to work with and e.g. I have enormous leeway with flex time so I could take care of myself under that umbrella but I don't know and don't have a history of bring up mental health at the workplace so I am cautious in that area.\", \"My mental health issues were the direct result of the trauma from childhood abuse. Most (all?) of the Prompt-sponsored/related presentations I've seen have been about congenital mental health issues that are treatable with continued medication. For me medication only provided temporary assistance. I needed years of (continuing) therapy to deal with PTSD and related disorders (depression anxiety suicidal tendencies others). I haven't seen many in our community discussing trauma-related mental health issues but they are just as real and just as debilitating.\", 'My refer to the mental health issue of depression.  I might answer differently if I was talking about a more serious issue like schizophrenia', \"My seniority at the company and rapport with the owners has helped me gain support for seeking help regarding my mental health as well as being able to take time off or work from home when an episode starts.However I don't feel that the company's stance on mental health is as clear as say something like vision or dental.  There's very much a stigma.\", 'My work is using my brain. I do it incredibly well.I make an effort to avoid diagnosis of anything mental health related because I am convinced it would only affect me negatively.', 'Nice job on the text field for gender :-)', 'No benefits at this organization but my employer/direct supervisor has had positive and constructive conversations with me about physical and mental health. Supervisor offered solutions advice time/energy to get help if I ever felt that needed it. (though it would have to be at my own expense). I feel safe sharing personal info with this particular person/company but this environment is the exception rather than the norm in my 15+ years as a tech worker. I would never feel safe enough to reveal info about any mental health concerns with any previous employers in the tech industry for fear of  negative perceptions job loss performance dings etc. ', 'None of us who are already in marginal groups in tech--the non-young the non-male the non-white--will risk our careers to admit another source of stigma: poor health.', \"Now at starutp.  Previously worked at big tech company which was actually quite good at supporting mental health issues.  Still wouldn't share with bosses/other employees though as there remains a strong negative stigma.\", \"One of my coworkers has mental health issues and she's open about them (eg: my enjoyment of this project may be due to my recent change in meds). I believe the response has been generally supportive. We're a very small tight-knit company.\", \"Our health plan has covered my psychotherapy and my antidepressant medication. My manager has been aware but discreet throughout. I did get negative reviews when my depression was trashing my delivery but y'know I wasn't delivering.\", 'People have often felt uncomfortable with my story while most of it happened a decade ago. I used to be quite open about it and have since kept it quietly tucked away. While I sometimes have waves of depression I have learned to cope with the affects.', 'Really manager dependent. I have had managers who work with my strengths and others who want my to work on my weaknesses which are directly tied to my mental issues. ', \"Regardless of a stated lack of negative consequences for discussing mental health issues with coworkers/superiors unconscious bias is a very real thing - as long as I don't *need* to inform my co-workers my mental health issues do not need to be public knowledge.\", 'Relatively new job. Ask again later', \"Since I am the CEO of my startup some of the would you feel comfortable and do you know the policy questions are interesting.  Of course I feel comfortable since no one can fire me and I know the policies because I chose them!However now I am curious if my employees know just how supportive the company would be of their mental health needs and this survey is making me realize that we probably haven't done a great job communicating that to everyone.  Thanks for doing this.\", \"Since being advised by Occupational Health that the tempo and spontenaity of the office environment was likely to have a negative effect on my mental health (I'm schizoaffective) I've been moved to 100% remote (home) working. The company have furnished a home office for me and I am only required to attend the office once a month to keep in touch\", 'So much depends upon the organization. ', 'Some of these questions are not really suitable for non US people.', \"Some of these questions were difficult to answer as being self-employed they didn't all apply to me.\", 'Some of these should not be required.', 'Sometimes I think  about using drugs for my mental health issues. If i use drugs I feel better', \"Stigma is the worst. People first language is a small step but we can't get that right.\", 'Thank you for all you are doing to study this topic and raise awareness in our communities. ', 'Thank you for shining a light on this topic.', 'Thank you for your work what you do is important!', 'Thank you this is very important.', 'Thanks for doing this research.', 'Thanks for doing this. It will help end the stigma!', \"The company I work for was started by engineers and so anything other then the engineering department has always lacked a bit. Now that we've grown things are better but I feel that overall our total benefits package (including healthcare) isn't well communicated. This reflects negatively on the mental health questions above but would also reflect negatively on any other sort of survey about the benefits. That is I don't think the company is purposefully doing less for mental health. They just aren't doing enough across the board and that includes mental health.\", \"The data will be skewed for self-employed people as the questions contain some bias.Having said that: being self-employed I *choose* to work for companies which want to employ *me* not just my skills but including my opinions my life-experience etc. If a potential contract/job doesn't *feel* right I prefer to not take it (and be poor) than to compromise myself.\", \"The family history question needs a don't know option.\", 'The form of mental health problem that I suffer is anxiety.', \"The main reason for the openness answers are because of an experience with my last employer. I felt I could trust my direct supervisor so I divulged information. It ended up spreading to more supervisors and eventually my coworkers. Supers highly suggested treatment but rushed things that shouldn't have been rushed and I ended up being incorrectly treated in a psych ward and mentally scarred from the issue. I lost most of my desire to program due to the experience not to mention thousands of dollars I lost - lost work time vacation time they used for treatment time doctors expenses etc. I have major depressive disorder high anxiety and mild agoraphobia. After seeing what treatment has to offer I will likely not seek it again and continue as is. (Long story short.)\", \"The questions related to employer-provided health benefits are largely irrelevant to where I live Australia so I'd discount them.\", 'The supposed divide between mental and physical health needs to done away with and probably will be as our knowledge of the brain increases. That said we are often employed for our ability to provide value. If any issue prevents is from providing value that creates a very real challenge for the employer who is responsible to shareholders and other team members who are providing value. There are no easy answers here.', 'The thought of going through my employer directly to get help is fucking scary.Getting help is the hardest part of getting help.', \"These result may be a tad confusing so a summary follows.* Currently self-employed so employer is me :)* Last place of employment was amazing when I first discovered I was bi-polar and helped me as long as I was there up to and including a mental health course for the whole team (although no mention why to others which was great).* I've never had a negative reaction yet but I know others who have.* I've been very lucky with company I keep which is why my experience is largely good.\", 'This issue for me is very real at the moment. I have missed several days of work recently because of a bad reaction to a depression/anxiety drug and I hate not being able to discuss it with my boss without worrying that I will be labeled a liability. ', 'This survey was tough as a self-employed individual. You may wish to discard responses from self employed people for much of your analysis.', \"Though I'm in the Netherlands and chose that country from the list quite some questions are strongly geared towards the US. Over here people don't need benefits from their employer because we pay enough taxes for the government to pay for treatment of any physical or mental condition. We don't need employer approval for medical leave; that's something a qualified medical professional decides (and while on leave we still get paid our salaries something the employer can get insurance for). I answered yes to questions about these things meaning it's covered not it's covered by my employer.\", \"Though it doesn't affect me (male) good job for making the Gender field a text input instead of a drop down of only two options.\", 'To be self employed helps but also brings you in touch with lots of new people that you might have to explain yourself to.', \"Too many people even especially IT considered mental health issues as a choice or something people can freely act about. You are depressed: take vacation. You feel weird: admit it is physical (otherwise it is not serious) go and see a doctor (and if you are on sick leave too many days you will get fired). You don't feel good today: take a holiday but don't work from home. In startup there is what I call the tyranny of happiness: you have to look happy to be accepted and to be worked with. At some point playing a role can definitely make the mental health issue worse and it is also a threat to diversity :(I don't like to call mental health issues an issue but actually when it comes to company field it too often becomes an issue and this is sad because working is sometimes better than medication. It is a vicious circle: people are scared of speaking about it so they don't inform their coworkers about what mental health is for real and so coworkers are so scared on a regular basis that the people with mental health issues keep it for themselves. \", \"We don't fucking talk about it ever.\", \"We had a developer suffer from depression and pretty hard burnout but he refused treatment even when the company said we'd foot the bill. Eventually he had to be asked to resign which was a shame. I don't know if we have any specific programs for mental health but we're definitely on the lookout for those types of issues.\", \"When I've had a depression I was lucky to have an awesome manager who was very understanding and found a budget to pay for my therapy sessions.\", \"When you are an introvert people don't notice if you are depressed. Its a vicious cycle of sorts.\", 'While I have not seen any direct retaliation against people with known mental illness many people do freely use insults commonly associated with mental illness (r****d for example) and criticize people behind their back for taking extra leave for doctor appointments (Oh I bet they are just hung over or other comments about how lazy they are.)', 'While mental health is a part of our insurance program the UCR is 50% of 140% of medicare which means a solo mental health practitioner who will charge in my area $150-$180 a session will only result in a $45-$60 reimbursement and thus a very high out of pocket expense. This usage of a different schedule for UCR and often the lower rate is very hard to determine before purchasing insurance even in the new health insurance exchanges.', 'While not personally affected I do have immediate family with mental health illness and my employer has been very supportive. Thanks for doing this survey.', 'Would you bring up a mental health issue with a potential employer in an interview?Poignant.', 'YOU MAY WANT TO THROW OUT MY ENTRY.I answered all of these questions with the assumption that Attention Deficit Disorder is considered a mental illness and with ADD in mind.', \"as a UK-based company we don't have any medical provisions as it's all provided on the National Health Service (for now!) However if we do need to take days off for any kind of health problems everyone is understanding :)\", \"fwiw I am a co founder of this company and the would you X in an interview questions shouldn't reflect how I would treat anyone addressing their own phys/mental health issue to me in such a situation. \", \"i'm in a country with social health care so my options are not dependant on my employer. this makes a few of the early questions less relevant than they would be for a resident of the US.\", 'it is my opinion that bad mental health is a red flag for employers and i would never bring it up.', 'suffer from CR-PTSD so all answered based on that', \"thanks for what you're doing. FYI these questions dont quite work for entrepreneurs where employer == cofounders / sr mgmt / me\", 'you rock for doing this!', nan]\n"
          ]
        }
      ]
    },
    {
      "cell_type": "markdown",
      "metadata": {
        "id": "U4ghwZ9pww8L"
      },
      "source": [
        "***Defining the columns***"
      ]
    },
    {
      "cell_type": "code",
      "metadata": {
        "id": "sfwj_wPa-BHv"
      },
      "source": [
        "#defining the columns as categorical and continuous\n",
        "cat_cols = ['self_employed','family_history','treatment','work_interfere','self_employed']\n",
        "con_cols = [\"Age\"]"
      ],
      "execution_count": null,
      "outputs": []
    },
    {
      "cell_type": "markdown",
      "metadata": {
        "id": "syBrsY6Sw5N9"
      },
      "source": [
        "***Testing and training data***"
      ]
    },
    {
      "cell_type": "code",
      "metadata": {
        "id": "z0Df-CDn-Dw8"
      },
      "source": [
        "#feature scaling\n",
        "from sklearn.preprocessing import StandardScaler\n",
        "scaler = StandardScaler()\n",
        "hs_data[con_cols] = scaler.fit_transform(hs_data[con_cols])"
      ],
      "execution_count": null,
      "outputs": []
    },
    {
      "cell_type": "code",
      "metadata": {
        "id": "ZlB8yfG7-Zpo",
        "colab": {
          "base_uri": "https://localhost:8080/"
        },
        "outputId": "a47c2413-e1b8-458e-9823-900202fa8e40"
      },
      "source": [
        "#defining the feature input and the label input\n",
        "#droping some fields\n",
        "all_inputs = hs_data.drop(['no_employees', 'Timestamp', 'comments','state','treatment'], axis=1).values\n",
        "#extracting the class labels\n",
        "all_labels = hs_data['treatment'].values\n",
        "#subset of the inputs looks like:\n",
        "all_inputs[:100]"
      ],
      "execution_count": null,
      "outputs": [
        {
          "output_type": "execute_result",
          "data": {
            "text/plain": [
              "array([[ 6.76740765e-01,  0.00000000e+00,  4.40000000e+01, ...,\n",
              "         0.00000000e+00,  2.00000000e+00,  0.00000000e+00],\n",
              "       [ 1.63269549e+00,  1.00000000e+00,  4.40000000e+01, ...,\n",
              "         1.00000000e+00,  0.00000000e+00,  0.00000000e+00],\n",
              "       [-6.08403963e-03,  1.00000000e+00,  6.00000000e+00, ...,\n",
              "         2.00000000e+00,  1.00000000e+00,  0.00000000e+00],\n",
              "       ...,\n",
              "       [-1.42649001e-01,  1.00000000e+00,  2.50000000e+01, ...,\n",
              "         2.00000000e+00,  1.00000000e+00,  0.00000000e+00],\n",
              "       [ 1.30480921e-01,  1.00000000e+00,  4.40000000e+01, ...,\n",
              "         0.00000000e+00,  1.00000000e+00,  0.00000000e+00],\n",
              "       [-2.79213961e-01,  1.00000000e+00,  4.40000000e+01, ...,\n",
              "         0.00000000e+00,  2.00000000e+00,  0.00000000e+00]])"
            ]
          },
          "metadata": {},
          "execution_count": 12
        }
      ]
    },
    {
      "cell_type": "code",
      "metadata": {
        "id": "bR5FXeG--eCj",
        "colab": {
          "base_uri": "https://localhost:8080/"
        },
        "outputId": "96e95ce8-25ab-41e6-9cfd-2a95dd882062"
      },
      "source": [
        "all_inputs"
      ],
      "execution_count": null,
      "outputs": [
        {
          "output_type": "execute_result",
          "data": {
            "text/plain": [
              "array([[ 6.76740765e-01,  0.00000000e+00,  4.40000000e+01, ...,\n",
              "         0.00000000e+00,  2.00000000e+00,  0.00000000e+00],\n",
              "       [ 1.63269549e+00,  1.00000000e+00,  4.40000000e+01, ...,\n",
              "         1.00000000e+00,  0.00000000e+00,  0.00000000e+00],\n",
              "       [-6.08403963e-03,  1.00000000e+00,  6.00000000e+00, ...,\n",
              "         2.00000000e+00,  1.00000000e+00,  0.00000000e+00],\n",
              "       ...,\n",
              "       [ 2.67045882e-01,  1.00000000e+00,  4.40000000e+01, ...,\n",
              "         1.00000000e+00,  1.00000000e+00,  0.00000000e+00],\n",
              "       [ 1.90582541e+00,  0.00000000e+00,  4.40000000e+01, ...,\n",
              "         1.00000000e+00,  1.00000000e+00,  0.00000000e+00],\n",
              "       [-9.62038766e-01,  1.00000000e+00,  4.40000000e+01, ...,\n",
              "         1.00000000e+00,  0.00000000e+00,  0.00000000e+00]])"
            ]
          },
          "metadata": {},
          "execution_count": 13
        }
      ]
    },
    {
      "cell_type": "code",
      "metadata": {
        "id": "97WLupRg-g_G"
      },
      "source": [
        "#spliting the data into training and testing.\n",
        "#75% of the data is used for training, while 25% of the data is used for testing.\n",
        "(training_inputs,\n",
        " testing_inputs,\n",
        " training_classes,\n",
        " testing_classes) = train_test_split(all_inputs, all_labels, test_size=0.25, random_state=0)"
      ],
      "execution_count": null,
      "outputs": []
    },
    {
      "cell_type": "code",
      "metadata": {
        "id": "P6B_DOJ8-jy9",
        "colab": {
          "base_uri": "https://localhost:8080/"
        },
        "outputId": "e7357ac7-ff81-47ae-e45a-2a79a4301460"
      },
      "source": [
        "print('Shape for training data', training_inputs.shape, training_classes.shape)\n",
        "print('Shape for testing data', testing_inputs.shape, testing_classes.shape)"
      ],
      "execution_count": null,
      "outputs": [
        {
          "output_type": "stream",
          "name": "stdout",
          "text": [
            "Shape for training data (942, 22) (942,)\n",
            "Shape for testing data (315, 22) (315,)\n"
          ]
        }
      ]
    },
    {
      "cell_type": "code",
      "metadata": {
        "id": "aYWKvLgX-WIb",
        "colab": {
          "base_uri": "https://localhost:8080/"
        },
        "outputId": "471316d3-5648-443a-b5fd-c7fad965417a"
      },
      "source": [
        "x= hs_data['mental_health_consequence'].values\n",
        "x.reshape(-1, 1)\n",
        "x"
      ],
      "execution_count": null,
      "outputs": [
        {
          "output_type": "execute_result",
          "data": {
            "text/plain": [
              "array([1, 0, 1, ..., 2, 2, 0])"
            ]
          },
          "metadata": {},
          "execution_count": 16
        }
      ]
    },
    {
      "cell_type": "code",
      "metadata": {
        "id": "MNQ2WqDZ-Wrh",
        "colab": {
          "base_uri": "https://localhost:8080/"
        },
        "outputId": "9be469f1-077d-4d90-bd84-7119baa7e27b"
      },
      "source": [
        "y = hs_data['treatment'].values\n",
        "y.reshape(-1, 1)\n",
        "y"
      ],
      "execution_count": null,
      "outputs": [
        {
          "output_type": "execute_result",
          "data": {
            "text/plain": [
              "array([1, 0, 0, ..., 1, 0, 1])"
            ]
          },
          "metadata": {},
          "execution_count": 17
        }
      ]
    },
    {
      "cell_type": "markdown",
      "metadata": {
        "id": "ZBPUIMeFydXX"
      },
      "source": [
        "******"
      ]
    },
    {
      "cell_type": "markdown",
      "metadata": {
        "id": "ZHLvkdJiyj55"
      },
      "source": [
        "***RandomForestClassifier***"
      ]
    },
    {
      "cell_type": "code",
      "metadata": {
        "id": "I72mYkya-vlf",
        "colab": {
          "base_uri": "https://localhost:8080/",
          "height": 397
        },
        "outputId": "90928ff0-5a96-4338-ae55-d72aee20de95"
      },
      "source": [
        "(training_inputs,\n",
        " testing_inputs,\n",
        " training_classes,\n",
        " testing_classes) = train_test_split(all_inputs, all_labels, test_size=0.20, random_state=1)\n",
        "classifier=RandomForestClassifier ()\n",
        "classifier.fit(training_inputs,training_classes)\n",
        "pred=classifier.predict(testing_inputs)\n",
        "print(\"Accuracy\"+str(classifier.score(testing_inputs, testing_classes)))\n",
        "print(\"F-1 Score\"+str(f1_score(testing_classes, pred)))\n",
        "print(\"ROC score\"+str(roc_auc_score(testing_classes, pred)))\n",
        "fpr_two,tpr_two,threshold_two=roc_curve(testing_classes, pred)\n",
        "print(\"ROC_AUC_SCORE:\"+str(roc_auc_score(testing_classes, pred)))\n",
        "print(\"Confusion matrix:\"+str(confusion_matrix(testing_classes, pred)))\n",
        "plt.plot(fpr_two, tpr_two)\n",
        "plt.xlim([0.0, 1.0])\n",
        "plt.ylim([0.0, 1.0])\n",
        "plt.title('ROC curve for mental health prediction')\n",
        "plt.xlabel('False Positive Rate (1 - Specificity)')\n",
        "plt.ylabel('True Positive Rate (Sensitivity)')\n",
        "plt.grid(True)"
      ],
      "execution_count": null,
      "outputs": [
        {
          "output_type": "stream",
          "name": "stdout",
          "text": [
            "Accuracy0.8134920634920635\n",
            "F-1 Score0.8265682656826568\n",
            "ROC score0.8134920634920635\n",
            "ROC_AUC_SCORE:0.8134920634920635\n",
            "Confusion matrix:[[ 93  33]\n",
            " [ 14 112]]\n"
          ]
        },
        {
          "output_type": "display_data",
          "data": {
            "image/png": "[encoded data removed]",
            "text/plain": [
              "<Figure size 432x288 with 1 Axes>"
            ]
          },
          "metadata": {
            "needs_background": "light"
          }
        }
      ]
    },
    {
      "cell_type": "markdown",
      "metadata": {
        "id": "CpFKSeXczBB7"
      },
      "source": [
        "***KNeighborsClassifier***"
      ]
    },
    {
      "cell_type": "code",
      "metadata": {
        "id": "Yz1xjlFz-1eX",
        "colab": {
          "base_uri": "https://localhost:8080/",
          "height": 530
        },
        "outputId": "b2d9835c-eae7-4ceb-913b-93eb0e586d29"
      },
      "source": [
        "accuracy = []\n",
        "\n",
        "for i in range(1, 50):\n",
        "    classifier = KNeighborsClassifier(n_neighbors = i)\n",
        "    classifier.fit(training_inputs, training_classes)\n",
        "    accuracy.append(classifier.score(training_inputs, training_classes))\n",
        "\n",
        "plt.figure(figsize =(10, 8))\n",
        "plt.plot(range(1, 50), accuracy, marker ='o', markersize = 10)\n",
        "plt.title('Accuracy vs. K Value')\n",
        "plt.xlabel('K')\n",
        "plt.ylabel('Accuracy')\n"
      ],
      "execution_count": null,
      "outputs": [
        {
          "output_type": "execute_result",
          "data": {
            "text/plain": [
              "Text(0, 0.5, 'Accuracy')"
            ]
          },
          "metadata": {},
          "execution_count": 19
        },
        {
          "output_type": "display_data",
          "data": {
            "image/png": "[encoded data removed]",
            "text/plain": [
              "<Figure size 720x576 with 1 Axes>"
            ]
          },
          "metadata": {
            "needs_background": "light"
          }
        }
      ]
    },
    {
      "cell_type": "code",
      "metadata": {
        "id": "ZMAxc9a22Xnz",
        "colab": {
          "base_uri": "https://localhost:8080/",
          "height": 397
        },
        "outputId": "06b23888-0eed-4ec1-83ce-e1afb8d12129"
      },
      "source": [
        "pred=classifier.predict(testing_inputs)\n",
        "fpr, tpr, thresholds = roc_curve(testing_classes, pred)\n",
        "classifier = KNeighborsClassifier(n_neighbors = 5)\n",
        "classifier.fit(training_inputs, training_classes)\n",
        "classifier.score(testing_inputs, testing_classes)\n",
        "print(\"Accuracy\"+str(classifier.score(testing_inputs, testing_classes)))\n",
        "print(\"F-1 Score\"+str(f1_score(testing_classes, pred)))\n",
        "print(\"ROC score\"+str(roc_auc_score(testing_classes, pred)))\n",
        "print(\"ROC_AUC_SCORE:\"+str(roc_auc_score(testing_classes, pred)))\n",
        "print(\"Confusion matrix:\"+str(confusion_matrix(testing_classes, pred)))\n",
        "plt.plot(fpr, tpr)\n",
        "plt.xlim([0.0, 1.0])\n",
        "plt.ylim([0.0, 1.0])\n",
        "plt.title('ROC curve for mental health prediction')\n",
        "plt.xlabel('False Positive Rate (1 - Specificity)')\n",
        "plt.ylabel('True Positive Rate (Sensitivity)')\n",
        "plt.grid(True)"
      ],
      "execution_count": null,
      "outputs": [
        {
          "output_type": "stream",
          "name": "stdout",
          "text": [
            "Accuracy0.6984126984126984\n",
            "F-1 Score0.7196969696969696\n",
            "ROC score0.7063492063492063\n",
            "ROC_AUC_SCORE:0.7063492063492063\n",
            "Confusion matrix:[[83 43]\n",
            " [31 95]]\n"
          ]
        },
        {
          "output_type": "display_data",
          "data": {
            "image/png": "[encoded data removed]",
            "text/plain": [
              "<Figure size 432x288 with 1 Axes>"
            ]
          },
          "metadata": {
            "needs_background": "light"
          }
        }
      ]
    },
    {
      "cell_type": "markdown",
      "metadata": {
        "id": "i4VuMTeKzIoB"
      },
      "source": [
        "***LogisticRegression***"
      ]
    },
    {
      "cell_type": "code",
      "metadata": {
        "id": "K9jFZfYVplLk",
        "colab": {
          "base_uri": "https://localhost:8080/"
        },
        "outputId": "e237b6d8-239d-44c6-d9c9-dd509788f18d"
      },
      "source": [
        "(training_inputs,\n",
        " testing_inputs,\n",
        " training_classes,\n",
        " testing_classes) = train_test_split(all_inputs, all_labels, test_size=0.20, random_state=1)\n",
        "classifier=LogisticRegression()\n",
        "classifier.fit(training_inputs,training_classes)\n",
        "pred=classifier.predict(testing_inputs)\n",
        "print(\"Accuracy\"+str(classifier.score(testing_inputs, testing_classes)))\n",
        "print(\"F-1 Score\"+str(f1_score(testing_classes, pred)))\n",
        "print(\"ROC score\"+str(roc_auc_score(testing_classes, pred)))\n",
        "fpr_one,tpr_one,threshold_one=roc_curve(testing_classes, pred)\n",
        "print(\"ROC_AUC_SCORE:\"+str(roc_auc_score(testing_classes, pred)))\n",
        "print(\"Confusion matrix:\"+str(confusion_matrix(testing_classes, pred)))"
      ],
      "execution_count": null,
      "outputs": [
        {
          "output_type": "stream",
          "name": "stdout",
          "text": [
            "Accuracy0.753968253968254\n",
            "F-1 Score0.7596899224806201\n",
            "ROC score0.7539682539682541\n",
            "ROC_AUC_SCORE:0.7539682539682541\n",
            "Confusion matrix:[[92 34]\n",
            " [28 98]]\n"
          ]
        }
      ]
    },
    {
      "cell_type": "markdown",
      "metadata": {
        "id": "UTqmSrQQ0Rnd"
      },
      "source": [
        "***DecisionTreeClassifier***"
      ]
    },
    {
      "cell_type": "code",
      "metadata": {
        "id": "682PiNu3r4A7",
        "colab": {
          "base_uri": "https://localhost:8080/"
        },
        "outputId": "93b835dd-3d84-476d-c51f-3b2d0cafcf4c"
      },
      "source": [
        "(training_inputs,\n",
        " testing_inputs,\n",
        " training_classes,\n",
        " testing_classes) = train_test_split(all_inputs, all_labels, test_size=0.20, random_state=0)\n",
        "classifier=DecisionTreeClassifier ()\n",
        "classifier.fit(training_inputs,training_classes)\n",
        "pred=classifier.predict(testing_inputs)\n",
        "print(\"Accuracy\"+str(classifier.score(testing_inputs, testing_classes)))\n",
        "print(\"F-1 Score\"+str(f1_score(testing_classes, pred)))\n",
        "print(\"ROC score\"+str(roc_auc_score(testing_classes, pred)))"
      ],
      "execution_count": null,
      "outputs": [
        {
          "output_type": "stream",
          "name": "stdout",
          "text": [
            "Accuracy0.7380952380952381\n",
            "F-1 Score0.7421875\n",
            "ROC score0.7388920400831915\n"
          ]
        }
      ]
    },
    {
      "cell_type": "markdown",
      "metadata": {
        "id": "ADEnR8y00bdK"
      },
      "source": [
        "***F1 SCORE***"
      ]
    },
    {
      "cell_type": "code",
      "metadata": {
        "id": "MS6sh2-6reEn",
        "colab": {
          "base_uri": "https://localhost:8080/"
        },
        "outputId": "b576f1f8-16c5-435e-e92d-c78b54819ff5"
      },
      "source": [
        "f1 = f1_score(testing_classes, pred)\n",
        "print (\"F1 Score : \\n\", f1)"
      ],
      "execution_count": null,
      "outputs": [
        {
          "output_type": "stream",
          "name": "stdout",
          "text": [
            "F1 Score : \n",
            " 0.7421875\n"
          ]
        }
      ]
    },
    {
      "cell_type": "markdown",
      "metadata": {
        "id": "1R8YEhD70kmY"
      },
      "source": [
        "***Comparing models***"
      ]
    },
    {
      "cell_type": "code",
      "metadata": {
        "id": "GIH3VNSrqmBj",
        "colab": {
          "base_uri": "https://localhost:8080/",
          "height": 295
        },
        "outputId": "2ed3a68d-9f63-4e4a-dcbc-1b1a51ddb4de"
      },
      "source": [
        "plt.plot(fpr, tpr,color='black',label='KNeighborClassifier')\n",
        "plt.plot(fpr_one, tpr_one,color='pink',label='LogisticRegression')\n",
        "plt.plot(fpr_two, tpr_two,color='blue',label='RandomForestClassifier')\n",
        "plt.xlim([0.0, 1.0])\n",
        "plt.ylim([0.0, 1.0])\n",
        "plt.title('ROC curve for mental health prediction')\n",
        "plt.xlabel('False Positive Rate (1 - Specificity)')\n",
        "plt.ylabel('True Positive Rate (Sensitivity)')\n",
        "plt.grid(True)\n",
        "# RandomForestClassifier performs better"
      ],
      "execution_count": null,
      "outputs": [
        {
          "output_type": "display_data",
          "data": {
            "image/png": "[encoded data removed]",
            "text/plain": [
              "<Figure size 432x288 with 1 Axes>"
            ]
          },
          "metadata": {
            "needs_background": "light"
          }
        }
      ]
    }
  ]
}